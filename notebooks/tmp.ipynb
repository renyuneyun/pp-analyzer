{
 "cells": [
  {
   "cell_type": "code",
   "execution_count": 5,
   "metadata": {},
   "outputs": [
    {
     "name": "stdout",
     "output_type": "stream",
     "text": [
      "/home/ryey/workspaces/oxford/PP-DToU/fine-tune/notebooks/default_1 None\n",
      "/home/ryey/workspaces/oxford/PP-DToU/fine-tune/notebooks/dir1 None\n",
      "/home/ryey/workspaces/oxford/PP-DToU/fine-tune/notebooks/default_1 job_id\n",
      "/home/ryey/workspaces/oxford/PP-DToU/fine-tune/notebooks/default_1 job_id\n",
      "/home/ryey/workspaces/oxford/PP-DToU/fine-tune/notebooks/default_1 job_id\n",
      "/home/ryey/workspaces/oxford/PP-DToU/fine-tune/notebooks/dir1 job_id\n"
     ]
    }
   ],
   "source": [
    "from src.utils import path_default\n",
    "\n",
    "\n",
    "@path_default('default_1')\n",
    "def my_func1(job_desc_dir=None, fine_tune_job_id=None):\n",
    "    print(job_desc_dir, fine_tune_job_id)\n",
    "\n",
    "\n",
    "my_func1()\n",
    "my_func1('dir1')\n",
    "my_func1(fine_tune_job_id='job_id')\n",
    "my_func1(None, fine_tune_job_id='job_id')\n",
    "my_func1(fine_tune_job_id='job_id')\n",
    "my_func1('dir1', 'job_id')"
   ]
  },
  {
   "cell_type": "code",
   "execution_count": null,
   "metadata": {},
   "outputs": [],
   "source": [
    "\n",
    "\n",
    "s = '```json\\n'\n",
    "    '[\\n'\n",
    "    '    {\\n'\n",
    "    '        \"type\": \"first-party-collection-use\",\\n'\n",
    "    '        \"text\": \"your application usage, access, session times and '\n",
    "    'in-app purchases\"\\n'\n",
    "    '    },\\n'\n",
    "    '    {\\n'\n",
    "    '        \"type\": \"first-party-collection-use\",\\n'\n",
    "    '        \"text\": \"your unique device ID (persistent / non-persistent)\"\\n'\n",
    "    '    },\\n'\n",
    "    '    {\\n'\n",
    "    '        \"type\": \"first-party-collection-use\",\\n'\n",
    "    '        \"text\": \"hardware type\"\\n'\n",
    "    '    },\\n'\n",
    "    '    {\\n'\n",
    "    '        \"type\": \"first-party-collection-use\",\\n'\n",
    "    '        \"text\": \"media access control (\\\\\"MAC\\\\\") address\"\\n'\n",
    "    '    },\\n'\n",
    "    '    {\\n'\n",
    "    '        \"type\": \"first-party-collection-use\",\\n'\n",
    "    '        \"text\": \"the version of your operating system (\\\\\"OS\\\\\")\"\\n'\n",
    "    '    },\\n'\n",
    "    '    {\\n'\n",
    "    '        \"type\": \"first-party-collection-use\",\\n'\n",
    "    '        \"text\": \"your email address (if you have connected to '\n",
    "    'Facebook)\"\\n'\n",
    "    '    },\\n'\n",
    "    '    {\\n'\n",
    "    '        \"type\": \"first-party-collection-use\",\\n'\n",
    "    '        \"text\": \"unique user ID\"\\n'\n",
    "    '    },\\n'\n",
    "    '    {\\n'\n",
    "    '        \"type\": \"data-storage-retention-deletion\",\\n'\n",
    "    '        \"text\": \"unique user ID\"\\n'\n",
    "    '    },\\n'\n",
    "    '    {\\n'\n",
    "    '        \"type\": \"data-storage-retention-deletion\",\\n'\n",
    "    '        \"text\": \"profile information\"\\n'\n",
    "    '    }\\n'\n",
    "    ']\\n'\n",
    "    '```'"
   ]
  }
 ],
 "metadata": {
  "kernelspec": {
   "display_name": ".venv",
   "language": "python",
   "name": "python3"
  },
  "language_info": {
   "codemirror_mode": {
    "name": "ipython",
    "version": 3
   },
   "file_extension": ".py",
   "mimetype": "text/x-python",
   "name": "python",
   "nbconvert_exporter": "python",
   "pygments_lexer": "ipython3",
   "version": "3.12.5"
  }
 },
 "nbformat": 4,
 "nbformat_minor": 2
}
