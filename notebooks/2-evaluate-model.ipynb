{
 "cells": [
  {
   "cell_type": "code",
   "execution_count": 1,
   "metadata": {},
   "outputs": [
    {
     "data": {
      "text/plain": [
       "True"
      ]
     },
     "execution_count": 1,
     "metadata": {},
     "output_type": "execute_result"
    }
   ],
   "source": [
    "\n",
    "%reload_ext autoreload\n",
    "%autoreload 2\n",
    "\n",
    "from pprint import pprint\n",
    "import csv\n",
    "from copy import deepcopy\n",
    "import json\n",
    "import pathlib\n",
    "from pathlib import Path\n",
    "from openai import OpenAI\n",
    "from dotenv import load_dotenv\n",
    "import src.annotation_utils as a_utils\n",
    "import src.llm_utils as llm_utils\n",
    "import src.message_utils as m_utils\n",
    "from src.env import (\n",
    "    BRAT_DATA_PATH,\n",
    ")\n",
    "from job_preset import JOB_PRESET\n",
    "import os\n",
    "\n",
    "load_dotenv()\n"
   ]
  },
  {
   "cell_type": "markdown",
   "metadata": {},
   "source": [
    "## Load evaluation dataset"
   ]
  },
  {
   "cell_type": "markdown",
   "metadata": {},
   "source": [
    "### Load from preset"
   ]
  },
  {
   "cell_type": "code",
   "execution_count": 2,
   "metadata": {},
   "outputs": [
    {
     "data": {
      "text/plain": [
       "('data_class-sent_data-v2',\n",
       " 'ft:gpt-4o-2024-08-06:rui:data-class-seg-data-v2:A8u5fEJ2',\n",
       " 1019,\n",
       " {'messages': [{'role': 'system',\n",
       "    'content': 'You are an annotation expert, and your task is to map phrases concerning user private data to one of the 211 categories below.\\nYou will be given a list of categories/terms as a hierarchy, meaning that some categories will have subcategories.\\nYou will also be given definitions of each of these categories. Please rely on these definitions.\\nYou always have to choose the category that matches the given phrase the closest and most precise.\\nThe categories that are \"deeper\" in the hierarchy are more precise, so you should use them whenever they apply, and only use the parent category, if none of the child category matches the phrase.\\nHere is the hierarchy of terms:\\n\\nInternal\\n\\tAuthenticating\\n\\t\\tPassword\\n\\t\\tPINCode\\n\\t\\tSecretText\\n\\tKnowledgeBelief\\n\\t\\tPhilosophicalBelief\\n\\t\\tReligiousBelief\\n\\t\\tThought\\n\\tPreference\\n\\t\\tFavorite\\n\\t\\t\\tFavoriteColor\\n\\t\\t\\tFavoriteFood\\n\\t\\t\\tFavoriteMusic\\n\\t\\tIntention\\n\\t\\tInterest\\n\\t\\t\\tDislike\\n\\t\\t\\tLike\\n\\t\\tOpinion\\n\\t\\tPrivacyPreference\\nExternal\\n\\tBehavioral\\n\\t\\tAttitude\\n\\t\\tAuthenticationHistory\\n\\t\\tBrowsingBehavior\\n\\t\\t\\tBrowserHistory\\n\\t\\t\\tBrowsingReferral\\n\\t\\tCallLog\\n\\t\\tDemeanor\\n\\t\\tLinkClicked\\n\\t\\tPersonality\\n\\t\\tReliability\\n\\t\\tServiceConsumptionBehavior\\n\\t\\t\\tTVViewingBehavior\\n\\t\\tAdInteractionBehavior\\n\\tCitizenship\\n\\tDemographic\\n\\t\\tGeographic\\n\\t\\tIncomeBracket\\n\\t\\tPhysicalTrait\\n\\tEthnicity\\n\\t\\tEthnicOrigin\\n\\t\\tRace\\n\\tIdentifying\\n\\t\\tBiometric\\n\\t\\t\\tFacialPrint\\n\\t\\t\\tFingerprint\\n\\t\\t\\tRetina\\n\\t\\tName\\n\\t\\tOfficialID\\n\\t\\t\\tPassport\\n\\t\\tPicture\\n\\t\\tUID\\n\\t\\tUsername\\n\\t\\tVehicleLicense\\n\\t\\t\\tVehicleLicenseNumber\\n\\t\\t\\tVehicleLicenseRegistration\\n\\tLanguage\\n\\t\\tAccent\\n\\t\\tDialect\\n\\tMedicalHealth\\n\\t\\tBloodType\\n\\t\\tDisability\\n\\t\\tDNACode\\n\\t\\tDrugTestResult\\n\\t\\tHealth\\n\\t\\t\\tGenetic\\n\\t\\t\\tMentalHealth\\n\\t\\t\\tPhysicalHealth\\n\\t\\tHealthHistory\\n\\t\\t\\tFamilyHealthHistory\\n\\t\\t\\tIndividualHealthHistory\\n\\t\\tHealthRecord\\n\\t\\tPrescription\\n\\tNationality\\n\\tPersonalDocuments\\n\\tPhysicalCharacteristic\\n\\t\\tAge\\n\\t\\t\\tAgeRange\\n\\t\\t\\t\\tAgeExact\\n\\t\\t\\tBirthDate\\n\\t\\tGender\\n\\t\\tHairColor\\n\\t\\tHeight\\n\\t\\tPiercing\\n\\t\\tSkinTone\\n\\t\\tTattoo\\n\\t\\tWeight\\n\\tSexual\\n\\t\\tFetish\\n\\t\\tProclivity\\n\\t\\tSexualHistory\\n\\t\\tSexualPreference\\n\\tVehicle\\n\\t\\tVehicleUsage\\nFinancial\\n\\tFinancialAccount\\n\\t\\tAccountIdentifier\\n\\t\\t\\tFinancialAccountNumber\\n\\t\\tBankAccount\\n\\t\\tPaymentCard\\n\\t\\t\\tPaymentCardExpiry\\n\\t\\t\\tPaymentCardNumber\\n\\t\\t\\t\\tCreditCardNumber\\n\\tFinancialStatus\\n\\tInsurance\\n\\tOwnership\\n\\t\\tCarOwned\\n\\t\\tHouseOwned\\n\\t\\t\\tApartmentOwned\\n\\t\\tPersonalPossession\\n\\tTransactional\\n\\t\\tCredit\\n\\t\\t\\tCreditCapacity\\n\\t\\t\\tCreditRecord\\n\\t\\t\\tCreditStanding\\n\\t\\t\\tCreditWorthiness\\n\\t\\t\\t\\tCreditScore\\n\\t\\tIncome\\n\\t\\tLoanRecord\\n\\t\\tPurchase\\n\\t\\tPurchasesAndSpendingHabit\\n\\t\\tSale\\n\\t\\tTax\\n\\t\\tTransaction\\nHistorical\\n\\tLifeHistory\\nSocial\\n\\tCommunication\\n\\t\\tEmailContent\\n\\t\\tSocialMedia\\n\\t\\t\\tPubliclyAvailableSocialMedia\\n\\t\\tSocialMediaCommunication\\n\\t\\tVoiceCommunicationRecording\\n\\t\\tVoiceMail\\n\\tCriminal\\n\\t\\tCriminalCharge\\n\\t\\tCriminalConviction\\n\\t\\tCriminalOffense\\n\\t\\tCriminalPardon\\n\\tFamily\\n\\t\\tFamilyStructure\\n\\t\\t\\tDivorce\\n\\t\\t\\tMarriage\\n\\t\\t\\tOffspring\\n\\t\\t\\tParent\\n\\t\\t\\tSibling\\n\\t\\tRelationship\\n\\tProfessional\\n\\t\\tDisciplinaryAction\\n\\t\\tEducation\\n\\t\\t\\tEducationExperience\\n\\t\\t\\tEducationQualification\\n\\t\\tEmploymentHistory\\n\\t\\t\\tCurrentEmployment\\n\\t\\t\\tPastEmployment\\n\\t\\tJob\\n\\t\\tPerformanceAtWork\\n\\t\\tProfessionalCertification\\n\\t\\tProfessionalEvaluation\\n\\t\\tProfessionalInterview\\n\\t\\tReference\\n\\t\\tSalary\\n\\t\\tSchool\\n\\t\\tWorkEnvironment\\n\\t\\tWorkHistory\\n\\tPublicLife\\n\\t\\tCharacter\\n\\t\\tCommunicationsMetadata\\n\\t\\tGeneralReputation\\n\\t\\tInteraction\\n\\t\\tMaritalStatus\\n\\t\\tPoliticalAffiliation\\n\\t\\tPoliticalOpinion\\n\\t\\tReligion\\n\\t\\tSocialStatus\\n\\tSocialNetwork\\n\\t\\tAcquantaince\\n\\t\\tAssociation\\n\\t\\tConnection\\n\\t\\tFriend\\n\\t\\tGroupMembership\\n\\t\\t\\tTradeUnionMembership\\nTracking\\n\\tContact\\n\\t\\tEmailAddress\\n\\t\\t\\tEmailAddressPersonal\\n\\t\\t\\tEmailAddressWork\\n\\t\\tTelephoneNumber\\n\\tDeviceBased\\n\\t\\tBrowserFingerprint\\n\\t\\tDeviceSoftware\\n\\t\\t\\tDeviceApplications\\n\\t\\t\\tDeviceOperatingSystem\\n\\t\\tIPAddress\\n\\t\\tMACAddress\\n\\t\\tDeviceIdentifier\\n\\tDigitalFingerprint\\n\\tIdentifier\\n\\tLocation\\n\\t\\tBirthPlace\\n\\t\\tCountry\\n\\t\\tGPSCoordinate\\n\\t\\tPhysicalAddress\\n\\t\\t\\tCity\\n\\t\\t\\tHouseNumber\\n\\t\\t\\tLocality\\n\\t\\t\\tPostalCode\\n\\t\\t\\tRegion\\n\\t\\t\\tRoomNumber\\n\\t\\t\\tStreet\\n\\t\\tTravelHistory\\n\\tUserAgent\\n\\nHere are definitions of these terms in form of a csv file:\\n\\nLabel,Definition\\nAccent,Information about linguistic and speech accents.\\nAccount Identifier,Information about financial account identifier.\\nAcquaintance,Information about acquaintances in a social network\\nAdInteraction Behavior,Information about interactions with advertisements.\\nAge,Information about age\\nAge Exact,\"Information about the exact age (i.e. to some degree within a year, month, or day)\"\\nAge Range,Information about age range i.e. inexact age to some degree (i.e. some years)\\nApartment Owned,Information about apartment(s) owned and its history\\nAssociation,\"Information about associations in a social network with other individuals, groups, or entities e.g. friend of a friend\"\\nAttitude,Information about attitude.\\nAuthenticating,Information about authentication and information used for authenticating\\nAuthentication History,Information about prior authentication and its outcomes such as login attempts or location.\\nBank Account,Information about bank accounts.\\nBehavioral,Information about Behavior or activity\\nBiometric,Information about biometrics and biometric characteristics.\\nBirth Date,Information about birth date\\nBirth Place,Information about birth place\\nBlood Type,Information about blood type.\\nBrowser Fingerprint,Information about the web browser which is used as a \\'fingerprint\\'\\nBrowser History,Information about and including web browsing history\\nBrowsing Behavior,Information about browsing Behavior.\\nBrowsing Referral,\"Information about web browsing referrer or referral, which can be based on location, targeted referrals, direct, organic search, social media or actions, campaigns.\"\\nCall Log,Information about the calls that an individual has made.\\nCar Owned,Information about cars ownership and ownership history.\\nCharacter,Information about character in the public sphere\\nCitizenship,Information about citizenship\\nCity,Information about city as a location\\nCommunication,Information communicated from or to an individual\\nCommunications Metadata,Information about communication metadata in the public sphere\\nConnection,Information about and including connections in a social network\\nContact,Information about contacts or used for contacting e.g. email address or phone number\\nCountry,\"Information about country e.g. residence, travel.\"\\nCredit,Information about reputation with regards to money\\nCredit Capacity,Information about credit capacity.\\nCredit Card Number,Information about credit card number\\nCredit Record,Information about credit record.\\nCredit Score,Information about credit score.\\nCredit Standing,Information about credit standing.\\nCredit Worthiness,Information about credit worthiness.\\nCriminal,Information about criminal activity e.g. criminal convictions or jail time\\nCriminal Charge,Information about criminal charges.\\nCriminal Conviction,Information about criminal convictions.\\nCriminal Offense,Information about criminal offenses\\nCriminal Pardon,Information about criminal pardons.\\nCurrent Employment,Information about current employment\\nDemeanor,Information about demeanor.\\nDemographic,Information about demography and demographic characteristics\\nDevice Applications,Information about applications or application-like software on a device.\\nDevice Based,Information about devices\\nDevice Identifier,Information about device identifier\\nDevice Operating System,Information about the operating system (OS) or system software that manages hardware or software resources.\\nDevice Software,Information about software on or related to a device.\\nDialect,Information about linguistic dialects.\\nDigital Fingerprint,Information about a \\'digital fingerprint\\' created for identification\\nDisability,Information about disabilities.\\nDisciplinary Action,Information about disciplinary actions and its history\\nDislike,Information about dislikes or preferences regarding repulsions.\\nDivorce,Information about divorce(s).\\nDNA Code,Information about DNA.\\nDrug Test Result,Information about drug test results.\\nEducation,Information about education\\nEducation Experience,Information about education experience e.g. attending a university\\nEducation Qualification,Information about educational qualifications\\nEmail Address,Information about Email address.\\nEmail Address Personal,Information about Email address used in Personal capacity\\nEmail Address Work,Information about Email address used for Work or in Professional capacity\\nEmail Content,Information about the contents of Emails sent or received\\nEmployment History,Information about employment history\\nEthnicity,Information about ethnic origins and lineage\\nEthnic Origin,Information about ethnic origin\\nExternal,Information about external characteristics that can be observed\\nFacial Print,Information about facial print or pattern\\nFamily,Information about family and relationships\\nFamily Health History,Information about family health history.\\nFamily Structure,Information about family and familial structure.\\nFavorite,Information about favorites\\nFavorite Color,Information about favorite color.\\nFavorite Food,Information about favorite food.\\nFavorite Music,Information about favorite music.\\nFetish,Information about an individual\\'s sexual fetishes\\nFinancial,Information about finance including monetary characteristics and transactions\\nFinancial Account,Information about financial accounts.\\nFinancial Account Number,Information about financial account number\\nFinancial Status,Information about financial status or standing\\nFingerprint,Information about fingerprint used for biometric purposes.\\nFriend,\"Information about friends in a social network, including aspects of friendships such as years together or nature of friendship.\"\\nGender,Information about gender\\nGeneral Reputation,Information about reputation in the public sphere\\nGenetic,Information about inherited or acquired genetic characteristics\\nGeographic,Information about location or based on geography (e.g. home address)\\nGPS Coordinate,Information about location expressed using Global Position System coordinates (GPS)\\nGroup Membership,Information about groups and memberships included or associated with a social network\\nHair Color,Information about hair color\\nHealth,Information about health.\\nHealth History,Information about health history.\\nHealth Record,Information about health record.\\nHeight,Information about physical height\\nHistorical,Information about historical data related to or relevant regarding history or past events\\nHouse Number,Information about house or apartment number as a location\\nHouse Owned,Information about house(s) owned and ownership history.\\nIdentifier,Information about an identifier or name used for identification\\nIdentifying,Information that uniquely or semi-uniquely identifies an individual or a group\\nIncome,Information about financial income e.g. for individual or household or family\\nIncome Bracket,Information about income bracket.\\nIndividual Health History,Information about information health history.\\nInsurance,Information about Insurance\\nIntention,Information about intentions\\nInteraction,Information about interactions in the public sphere\\nInterest,Information about interests\\nInternal,Information about internal characteristics that cannot be seen or observed\\nIP Address,Information about the Internet Protocol (IP) address of a device\\nJob,Information about professional jobs\\nKnowledge and Beliefs,Information about knowledge and beliefs\\nLanguage,Information about language and lingual history.\\nLife History,\"Information about personal history regarding events or activities - including  their occurrences that might be directly related or have had an influence (e.g. World War, 9/11)\"\\nLike,Information about likes or preferences regarding attractions.\\nLink Clicked,Information about the links that an individual has clicked.\\nLoan Record,\"Information about loans, whether applied, provided or rejected, and its history\"\\nLocality,\"Information about locality e.g. city, village, town, portion of a city as a location\"\\nLocation,Information about location\\nMAC Address,Information about the Media Access Control (MAC) address of a device\\nMarital Status,Information about marital status and history\\nMarriage,Information about marriage(s).\\nMedical Health,\"Information about health, medical conditions or health care\"\\nMental Health,Information about mental health.\\nName,Information about names associated or used as given name or nickname.\\nNationality,Information about nationality\\nOfficial ID,Information about an official identifier or identification document\\nOffspring,Information about offspring(s).\\nOpinion,Information about opinions\\nOwnership,\"Information about ownership and history, including renting, borrowing, possessions.\"\\nParent,Information about parent(s).\\nPassport,Information about passport\\nPassword,Information about password used in the process of authenticating the individual as an user accessing a system.\\nPast Employment,Information about past employment\\nPayment Card,\"Information about payment card such as Credit Card, Debit Card.\"\\nPayment Card Expiry,Information about payment card expiry such as a date.\\nPayment Card Number,Information about payment card number.\\nPerformance at Work,Information about performance at work or within work environments\\nPersonal Documents,Information about and including personal documents e.g. diaries or journals\\nPersonality,\"Information about personality (e.g., categorization in terms of the Big Five personality traits)\"\\nPersonal Possession,Information about personal possessions.\\nPhilosophical Belief,Information about philosophical beliefs.\\nPhysical Address,Information about physical address.\\nPhysical Characteristic,Information about physical characteristics\\nPhysical Health,Information about physical health.\\nPhysical Trait,Information about defining traits or features regarding the body.\\nPicture,Information about visual representation or image e.g. profile photo.\\nPiercing,Information about piercings\\nPIN Code,\"Information about Personal identification number (PIN), which is usually used in the process of authenticating the individual as an user accessing a system.\"\\nPolitical Affiliation,Information about political affiliation and history\\nPolitical Opinion,Information about opinions regarding politics and political topics\\nPostal Code,Information about postal code as a location\\nPreference,Information about preferences or interests\\nPrescription,Information about medical and pharmaceutical prescriptions\\nPrivacy Preference,Information about privacy preferences\\nProclivity,Information about proclivities in a sexual context\\nProfessional,Information about educational or professional career\\nProfessional Certification,Information about professional certifications\\nProfessional Evaluation,Information about professional evaluations\\nProfessional Interview,Information about professional interviews\\nPublic Life,Information about public life\\nPublicly Available Social Media,Information about social media that is publicly available\\nPurchase,Information about purchases such as items bought e.g. grocery or clothing\\nPurchases and Spending Habit,Information about analysis of purchases made and money spent expressed as a habit e.g. monthly shopping trends\\nRace,Information about race or racial history.\\nReference,Information about references in the professional context\\nRegion,Information about region as a location\\nRelationship,Information about relationships and relationship history.\\nReliability,Information about reliability (e.g. of a person)\\nReligion,\"Information about religion, religious inclinations, and religious history.\"\\nReligious Belief,Information about religion and religious beliefs.\\nRetina,Information about retina and the retinal patterns.\\nRoom Number,Information about location expressed as Room number or similar numbering systems\\nSalary,Information about salary\\nSale,Information about sales e.g. selling of goods or services\\nSchool,\"Information about school such as name of school, conduct, or grades obtained.\"\\nSecret Text,\"Information about secret text used in the process of authenticating the individual as an user accessing a system, e.g., when recovering a lost password.\"\\nService Consumption Behavior,\"Information about the consumption of a service, e.g. time and duration of consumption.\"\\nSexual,Information about sexuality and sexual history\\nSexual History,Information about sexual history\\nSexual Preference,Information about sexual preferences\\nSibling,Information about sibling(s).\\nSkin Tone,Information about skin tone\\nSocial,\"Information about social aspects such as family, public life, or professional networks.\"\\nSocial Media,Information about social media\\nSocial Media Communication,\"Information about social media communication, including the communication itself and metadata.\"\\nSocial Network,Information about friends or connections expressed as a social network\\nSocial Status,Information about social status\\nStreet,Information about street as a location\\nTattoo,Information about tattoos\\nTax,Information about financial tax e.g. tax records or tax due\\nTelephone Number,Information about telephone number.\\nThought,Information about thoughts\\nTracking,Information used to track an individual or group e.g. location or email\\nTrade Union Membership,Information about trade union memberships and related topics\\nTransaction,Information about financial transactions e.g. bank transfers\\nTransactional,\"Information about a purchasing, spending or income\"\\nTravel History,Information about travel history\\nTV Viewing Behavior,\"Information about TV viewing Behavior, such as timestamps of channel change, duration of viewership, content consumed\"\\nUID,Information about unique identifiers.\\nUser agent,Information about software acting on behalf of users e.g. web browser\\nUsername,Information about usernames.\\nVehicle License Number,Information about vehicle license number\\nVehicle License Registration,Information about vehicle license registration\\nVehicle,Information about vehicles\\nVehicle License,Information about vehicle license\\nVehicle Usage,\"Information about usage of vehicles, e.g. driving statistics\"\\nVoice Communication Recording,\"Information about vocal recorded communication (e.g. telephony, VoIP)\"\\nVoice Mail,Information about voice mail messages.\\nWeight,Information about physical weight\\nWork Environment,Information about work environments\\nWork History,Information about work history in a professional context\\n\\nIn the following prompt, you will receive a segment (between `<segment>...</segment>`) and a list with phrases (between `<phrases>...</phrases>`, as a JSON array) within the segment, and your task is to map each one of them to the category that matches each phrase the closest and most precise.\\nThe category must be STRICTLY of the categories in the \"category\" column of the attached csv file.\\nReturn the classifications as a JSON array of entries, matching the order of the given phrases.\\n'},\n",
       "   {'role': 'user',\n",
       "    'content': 'Please classify the phrases (given later) in the following segment:\\n\\n<segment>\\n101 Great Goals Privacy Policy\\nLast revised: May 25, 2018\\n\\n\\n</segment>\\n\\nThe phrases to classify are:\\n\\n<phrases>\\n[]\\n</phrases>\\n'},\n",
       "   {'role': 'assistant', 'content': '[]'}]})"
      ]
     },
     "execution_count": 2,
     "metadata": {},
     "output_type": "execute_result"
    }
   ],
   "source": [
    "# job_desc_dir = None\n",
    "job_desc_dir = 'fine_tune-2024-09-18-19-31-39-gpt-4o-2024-08-06'\n",
    "\n",
    "job_desc = llm_utils.load_fine_tune_description(job_desc_dir)\n",
    "\n",
    "job_preset = JOB_PRESET[job_desc]\n",
    "\n",
    "data_entities = job_preset.load_data()\n",
    "all_data = job_preset.as_training_data(data_entities)\n",
    "training_set, validation_set, test_set, fine_tuned_model_id = llm_utils.load_eval_info(job_desc_dir, all_data=all_data)\n",
    "\n",
    "job_desc, fine_tuned_model_id, len(test_set), test_set[0]"
   ]
  },
  {
   "cell_type": "markdown",
   "metadata": {},
   "source": [
    "### Or, load from non-preset"
   ]
  },
  {
   "cell_type": "code",
   "execution_count": 49,
   "metadata": {},
   "outputs": [
    {
     "data": {
      "text/plain": [
       "1067"
      ]
     },
     "execution_count": 49,
     "metadata": {},
     "output_type": "execute_result"
    }
   ],
   "source": [
    "## For (segment, data_span)\n",
    "# data_entities = a_utils.load_data_entities_of_segments()\n",
    "\n",
    "# data_entities = [segment for segment in data_entities if segment['entities']]\n",
    "\n",
    "# For data span\n",
    "# all_data = m_utils.as_training_data_for_data_span_of_segment(data_entities)\n",
    "# all_data = m_utils.as_training_data_for_data_span_of_segment_1_1(data_entities)\n",
    "# For data classification\n",
    "# all_data = m_utils.as_training_data_for_data_classification_of_segment(data_entities)\n",
    "# For data classification (gradual, level 0)\n",
    "# all_data = m_utils.as_training_data_for_data_classification_of_segment_gradual(data_entities)\n",
    "\n",
    "## For (segment, sentence, data_span)\n",
    "# data_entities = a_utils.load_data_entities_of_sentences()\n",
    "# For data span of sentence\n",
    "# all_data = m_utils.as_training_data_for_data_span_of_sentence(data_entities)  # data_entity-seg_sent_data-v2\n",
    "# all_data = m_utils.as_training_data_for_data_span_of_sentence_1(data_entities)\n",
    "# all_data = m_utils.as_training_data_for_data_span_of_sentence_only(data_entities)  # data_entity-sent_data-ver2\n",
    "\n",
    "\n",
    "## For (sentence, purpose_span)\n",
    "# purpose_entities = a_utils.load_purpose_entities_of_sentences()\n",
    "# For purpose span of sentence\n",
    "# all_data = m_utils.as_training_data_for_purpose_span_of_sentence_only(purpose_entities)\n",
    "\n",
    "\n",
    "## For (segment, sentence, action_type, text)\n",
    "# action_entities = a_utils.load_action_of_segment()\n",
    "# For action type of sentence\n",
    "# all_data = m_utils.as_training_data_for_action_span_for_segment(action_entities)\n",
    "\n",
    "\n",
    "## Temporary\n",
    "data_entities = a_utils.load_data_entities_of_sentences()\n",
    "all_data = m_utils.as_training_data_for_data_classification_of_segment(data_entities)\n",
    "\n",
    "len(all_data)"
   ]
  },
  {
   "cell_type": "markdown",
   "metadata": {},
   "source": [
    "#### Load from a previous fine-tune job"
   ]
  },
  {
   "cell_type": "code",
   "execution_count": 50,
   "metadata": {},
   "outputs": [
    {
     "data": {
      "text/plain": [
       "(40, 8, 1019)"
      ]
     },
     "execution_count": 50,
     "metadata": {},
     "output_type": "execute_result"
    }
   ],
   "source": [
    "# job_desc_dir = None\n",
    "job_desc_dir = 'fine_tune-2024-09-18-19-35-56-gpt-4o-mini-2024-07-18'\n",
    "\n",
    "training_set, validation_set, test_set, fine_tuned_model_id = llm_utils.load_eval_info(job_desc_dir, all_data=all_data)\n",
    "\n",
    "len(training_set), len(validation_set), len(test_set)"
   ]
  },
  {
   "cell_type": "markdown",
   "metadata": {},
   "source": [
    "#### Or, Use the entire dataset"
   ]
  },
  {
   "cell_type": "code",
   "execution_count": 21,
   "metadata": {},
   "outputs": [
    {
     "data": {
      "text/plain": [
       "(237,\n",
       " {'messages': [{'role': 'system',\n",
       "    'content': 'You are an annotation expert. You will be given a segment of a privacy policy of a web or mobile application, and will be asked to annotate actions in it.\\n\\nIMPORTANT: Filtering Out General Phrases\\nBefore annotating, carefully check each potential data entity. DO NOT annotate sentences that do not provide specific data types or purpose types.\\nExamples of general phrases to omit include, but are not limited to:\\n\\n\"the information we collect about you\"\\n\"other data\"\\n\"any information\"\\n\"other purposes\"\\n\"purposes described in our policy\"\\n\\nIf a sentence does not clearly indicate a specific type of personal data, DO NOT include it in your annotations.\\n\\nData usage context refers to the (core phrases within) sentences that mention the actions that are being taken with the PERSONAL DATA OF THE USER which is being mentioned in one of the following context types:\\n1. first-party-collection-use - the policy segment mentions collection, usage, or processing of this datum by the first party (the application).\\n2. third-party-collection-use - the policy segment mentions collection, usage, or processing of this datum by a third party.\\n3. third-party-sharing-disclosure - the policy segment mentions sharing, or disclosure of this datum to a third party.\\n4. data-storage-retention-deletion - the policy segment mentions storage, retention, or deletion of this datum.\\n5. data-security-protection - the policy segment mentions how this datum is being protected.\\n\\nNote the following!\\n1. Personal user data that is mentioned outside of one of these contexts does not classify as data entity.\\n2. Multiple contexts may apply to the same data entity.\\n3. Tracking technologies such as cookies, web beacons, etc. are technologies, hence does not classify as data entity and should NOT be annotated.\\n4. The policy segment that you receive might be empty or not contain any information on usage of concrete personal user data - that\\'s normal, and you should just return an empty list.\\n\\nProvide the output as a list of data usage contexts with the following details for each entry:\\n1. The type of the context as in one of the five context types mentioned above.\\n2. The exact text of the context as it appears in the text segment.\\n3. The exact sentence of the context as it appears in the text segment.\\n\\nYou will be given the segment below from user input. Please identify and annotate ALL data usage contexts in the following privacy policy segment.\\nYour output should follow this JSON structure:\\n\\n[\\n    {\\n        \"type\": \"...\",\\n        \"text\": \"...\",\\n        \"sentence\": \"...\"\\n    },\\n    {\\n        \"type\": \"...\",\\n        \"text\": \"...\",\\n        \"sentence\": \"...\"\\n    }\\n]\\n'},\n",
       "   {'role': 'user',\n",
       "    'content': 'Please annotate the following segment:\\n\\nTHIRD PARTY TRACKING TECHNOLOGIES\\n\\nWhen you visit or access our Services (for example when you visit our websites), we use (and authorize third parties to use) web beacons, cookies, pixels, scripts, tags and other technologies (\"Tracking Technologies\").\\nThe Tracking Technologies allow us to automatically collect information about you and your online behavior, as well as your device (for example your computer or mobile device), for different purposes, such as in order to enhance your navigation on our Services, improve our Services\\' performance and customize your experience on our Services. We also use this information to collect statistics about the usage of our Services, perform analytics, deliver content which is tailored to your interests and administer services to our Users, advertisers, publishers, customers and partners.\\nWe also allow third parties to collect information about you through Tracking Technologies. To learn more please visit our Cookie Policy.\\n\\n\\n'},\n",
       "   {'role': 'assistant',\n",
       "    'content': '{\"action_type\": \"first-party-collection-use\", \"text\": \"use\", \"sentence\": \"When you visit or access our Services (for example when you visit our websites), we use (and authorize third parties to use) web beacons, cookies, pixels, scripts, tags and other technologies (\\\\\"Tracking Technologies\\\\\").\"}'}]})"
      ]
     },
     "execution_count": 21,
     "metadata": {},
     "output_type": "execute_result"
    }
   ],
   "source": [
    "test_set = all_data\n",
    "\n",
    "len(test_set), test_set[0]"
   ]
  },
  {
   "cell_type": "markdown",
   "metadata": {},
   "source": [
    "## Run model evaluation"
   ]
  },
  {
   "cell_type": "code",
   "execution_count": 3,
   "metadata": {},
   "outputs": [
    {
     "data": {
      "text/plain": [
       "('ft:gpt-4o-2024-08-06:rui:data-class-seg-data-v2:A8u5fEJ2',\n",
       " 'data_class-sent_data-v2')"
      ]
     },
     "execution_count": 3,
     "metadata": {},
     "output_type": "execute_result"
    }
   ],
   "source": [
    "\n",
    "model_id = fine_tuned_model_id if 'fine_tuned_model_id' in locals() else 'gpt-4o-mini-2024-07-18'\n",
    "# model_id = '4.0Ultra'\n",
    "# model_id = 'gpt-4o-2024-08-06'\n",
    "# model_id = 'ft:gpt-4o-2024-08-06:rui:test:A8rFT3EN'\n",
    "\n",
    "desc = job_desc if 'job_desc' in locals() else None\n",
    "\n",
    "model_id, desc"
   ]
  },
  {
   "cell_type": "code",
   "execution_count": 4,
   "metadata": {},
   "outputs": [
    {
     "name": "stderr",
     "output_type": "stream",
     "text": [
      "  0%|          | 0/1019 [00:00<?, ?it/s]"
     ]
    },
    {
     "name": "stderr",
     "output_type": "stream",
     "text": [
      "  1%|          | 8/1019 [00:08<28:24,  1.69s/it]"
     ]
    }
   ],
   "source": [
    "messages_list = [data['messages'][:-1] for data in test_set]\n",
    "correct_outputs = [data['messages'][-1]['content'] for data in test_set]\n",
    "\n",
    "dir_name, obj_model_outputs = llm_utils.query_llm(model_id, messages_list, correct_outputs=correct_outputs,\n",
    "                                                  batch=False,\n",
    "                                                  desc=desc)\n",
    "dir_name, len(obj_model_outputs)\n",
    "\n",
    "# Not using batch for some tasks because of rate limit\n",
    "# dir_name, batch_job = llm_utils.query_llm(model_id, messages_list, correct_outputs=correct_outputs,\n",
    "#                                                   batch=True,\n",
    "#                                                   desc=desc)\n",
    "# dir_name, batch_job"
   ]
  },
  {
   "cell_type": "code",
   "execution_count": 37,
   "metadata": {},
   "outputs": [
    {
     "data": {
      "text/plain": [
       "Batch(id='batch_JqFQSt6gdH8BBa7BHgVYpeFH', completion_window='24h', created_at=1726578398, endpoint='/v1/chat/completions', input_file_id='file-bWlE4mEreTE1ns9Va1l1Gr69', object='batch', status='failed', cancelled_at=None, cancelling_at=None, completed_at=None, error_file_id=None, errors=Errors(data=[BatchError(code='token_limit_exceeded', line=None, message='Enqueued token limit reached for gpt-4o-2024-08-06 in organization org-B2C2pNzAq4paAOvhIYdFJlSv. Limit: 90,000 enqueued tokens. Please try again once some in_progress batches have been completed.', param=None)], object='list'), expired_at=None, expires_at=1726664798, failed_at=1726578399, finalizing_at=None, in_progress_at=None, metadata={'description': 'data_span-seg_entity-ver2'}, output_file_id=None, request_counts=BatchRequestCounts(completed=0, failed=0, total=0))"
      ]
     },
     "execution_count": 37,
     "metadata": {},
     "output_type": "execute_result"
    }
   ],
   "source": [
    "llm_utils.wait_for_batch_job_finish(batch_job.id)\n",
    "# llm_utils.retrieve_batch_query_result()\n",
    "# llm_utils.combine_batch_query_result()"
   ]
  }
 ],
 "metadata": {
  "kernelspec": {
   "display_name": ".venv",
   "language": "python",
   "name": "python3"
  },
  "language_info": {
   "codemirror_mode": {
    "name": "ipython",
    "version": 3
   },
   "file_extension": ".py",
   "mimetype": "text/x-python",
   "name": "python",
   "nbconvert_exporter": "python",
   "pygments_lexer": "ipython3",
   "version": "3.12.5"
  }
 },
 "nbformat": 4,
 "nbformat_minor": 2
}
