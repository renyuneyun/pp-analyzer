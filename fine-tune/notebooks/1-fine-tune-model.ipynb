{
 "cells": [
  {
   "cell_type": "code",
   "execution_count": 38,
   "metadata": {},
   "outputs": [
    {
     "data": {
      "text/plain": [
       "True"
      ]
     },
     "execution_count": 38,
     "metadata": {},
     "output_type": "execute_result"
    }
   ],
   "source": [
    "%reload_ext autoreload\n",
    "%autoreload 2\n",
    "\n",
    "from pprint import pprint\n",
    "import csv\n",
    "from copy import deepcopy\n",
    "import json\n",
    "import pathlib\n",
    "from pathlib import Path\n",
    "from openai import OpenAI\n",
    "from dotenv import load_dotenv\n",
    "import numpy as np\n",
    "import fine_tune.annotation_utils as a_utils\n",
    "import fine_tune.llm_utils as llm_utils\n",
    "import fine_tune.message_utils as m_utils\n",
    "from fine_tune.env import (\n",
    "    BRAT_DATA_PATH,\n",
    ")\n",
    "from fine_tune import utils\n",
    "import split_training_data as std\n",
    "from job_preset import JOB_PRESET\n",
    "import os\n",
    "\n",
    "load_dotenv()\n"
   ]
  },
  {
   "cell_type": "markdown",
   "metadata": {},
   "source": [
    "## Load training job"
   ]
  },
  {
   "cell_type": "markdown",
   "metadata": {},
   "source": [
    "### Load from preset"
   ]
  },
  {
   "cell_type": "code",
   "execution_count": 41,
   "metadata": {},
   "outputs": [
    {
     "data": {
      "text/plain": [
       "('purpose_span-sent_entity-v2-d4',\n",
       " 1067,\n",
       " 120,\n",
       " 30,\n",
       " 'gpt-4o-2024-08-06',\n",
       " {'messages': [{'role': 'system',\n",
       "    'content': 'You are an annotation expert. You will be given a segment of a privacy policy of a web or mobile application, and will be asked to annotate purpose entities in it.\\n\\nIMPORTANT: Filtering Out General Phrase\\nBefore annotating, carefully check each potential purpose entity. DO NOT annotate general phrases that do not provide specific purpose types.\\nExamples of general phrases to omit include, but are not limited to:\\n\\n\"other purposes\"\\n\"purposes described in our policy\"\\n\\nPurpose entities are phrases in segment text that refer to the purposes for which USER\\'S PERSONAL DATA will be used, collected, processed, protected, shared with the third parties, etc. The purpose entity must be mentioned in one of the following context types:\\n1. first-party-collection-use - the policy segment mentions collection, usage, or processing of this datum by the first party (the application).\\n2. third-party-collection-use - the policy segment mentions collection, usage, or processing of this datum by a third party.\\n3. third-party-sharing-disclosure - the policy segment mentions sharing, or disclosure of this datum to a third party.\\n4. data-storage-retention-deletion - the policy segment mentions storage, retention, or deletion of this datum.\\n5. data-security-protection - the policy segment mentions how this datum is being protected.\\n\\nNote the following!\\n1. Purpose that is mentioned outside of one of these contexts does not classify as purpose entity and should NOT be annotated.\\n2. Purpose that does not have a clear and concrete personal user data that it applies to does not classify as purpose entity and should NOT be annotated.\\n3. Multiple contexts may apply to the same purpose entity.\\n\\nProvide the output as a list of purpose entities with the following details for each entity:\\n1. The exact text of the purpose entity as it appears in the text segment.\\n\\nPlease identify and annotate ALL purpose entities in the following privacy policy segment from user\\'s prompt. Remember to ignore purpose entities that do not constitute a concrete purpose.\\nProvide the output as a list of purposes. Output only the exact text of the purpose as it appears in the text segment.\\nDo not include any additional information or context in your annotations.\\nRepresent the purposes as a JSON array of entries, following the order of their appearance in the segment.\\n'},\n",
       "   {'role': 'user',\n",
       "    'content': 'Please annotate the following sentence:\\n\\nHOW WE USE THE COLLECTED INFORMATION?\\n'},\n",
       "   {'role': 'assistant', 'content': '[]'}]})"
      ]
     },
     "execution_count": 41,
     "metadata": {},
     "output_type": "execute_result"
    }
   ],
   "source": [
    "job_desc = 'purpose_span-sent_entity-v2-d4'\n",
    "\n",
    "job_preset = JOB_PRESET[job_desc]\n",
    "\n",
    "data_entities = job_preset.load_data()\n",
    "all_data = job_preset.as_training_data(data_entities)\n",
    "training_set_indices, validation_set_indices = job_preset.training_data_splitter(data_entities)\n",
    "\n",
    "# base_model = 'gpt-4o-mini-2024-07-18'\n",
    "base_model = 'gpt-4o-2024-08-06'\n",
    "\n",
    "suffix = job_desc\n",
    "\n",
    "job_desc, len(data_entities), len(training_set_indices), len(validation_set_indices), base_model, all_data[10]"
   ]
  },
  {
   "cell_type": "markdown",
   "metadata": {},
   "source": [
    "### Or, custom load"
   ]
  },
  {
   "cell_type": "markdown",
   "metadata": {},
   "source": [
    "#### Load brat dataset"
   ]
  },
  {
   "cell_type": "code",
   "execution_count": 2,
   "metadata": {},
   "outputs": [],
   "source": [
    "\n",
    "import dataclasses\n",
    "\n",
    "from pybrat.parser import BratParser, Entity, Event, Example, Relation\n",
    "\n",
    "# Initialize a parser.\n",
    "brat = BratParser(error=\"ignore\")\n",
    "# brat = BratParser()\n",
    "annotations = brat.parse(BRAT_DATA_PATH)\n"
   ]
  },
  {
   "cell_type": "code",
   "execution_count": 3,
   "metadata": {},
   "outputs": [
    {
     "data": {
      "text/plain": [
       "(1067,\n",
       " {'segment': 'INTRODUCTION\\n\\nDomains Holdings Group Limited (the \"Company\"), offers a global network of content-rich web, mobile and social sites, including user acquisition and media buying (including paid search, display, mobile and social advertising), content optimization (including key word search, off-page and on-page optimization), and affiliate program, both in the web and mobile ecosystem (including through websites or mobile apps operated by Company; collectively, the \"Services\").\\nThe Company is deeply committed to safeguard the privacy expectations of its end users (\"User(s)\", \"you\" or \"your\"). Accordingly, we have put in place this Privacy Policy, which outlines our data protection practices, including how we collect, use, disclose and protect your Personal Information, as well as your rights with respect to your Personal Information.\\nIn this Privacy Policy, you can learn about:\\nWHAT INFORMATION WE COLLECT?\\nMINORS\\nHOW WE USE THE COLLECTED INFORMATION?\\nMARKETING\\nWITH WHOM WE SHARE INFORMATION?\\nINTERNATIONAL TRANSFER OF INFORMATION\\nTHIRD PARTY TRACKING TECHNOLOGIES\\nTHIRD PARTY SERVICES\\nRETENTION OF PERSONAL INFORMATION\\nYOUR RIGHTS\\nHOW WE KEEP YOUR INFORMATION SECURED\\nCHANGES TO THE PRIVACY POLICY\\nHOW TO CONTACT US\\nWe encourage you to read the Privacy Policy carefully and use it to make informed decisions. By visiting or interacting with the Company\\'s websites, mobile apps or other online properties, or by visiting or interacting with third party websites, mobile apps or other online properties that deploy our Service, you hereby agree to the Privacy Policy.\\nIf you have any questions (or comments) concerning this Privacy Policy, you are welcome to send our Data Protection Officer at dpo@domainsholdingsgroup.info.\\n\\n',\n",
       "  'sentence': 'HOW WE USE THE COLLECTED INFORMATION?',\n",
       "  'entities': []})"
      ]
     },
     "execution_count": 3,
     "metadata": {},
     "output_type": "execute_result"
    }
   ],
   "source": [
    "# data_entities = a_utils.get_data_entities_of_segments(annotations)\n",
    "data_entities = a_utils.get_data_entities_of_sentences(annotations)\n",
    "\n",
    "len(data_entities), data_entities[10]"
   ]
  },
  {
   "cell_type": "markdown",
   "metadata": {},
   "source": [
    "#### Select training data"
   ]
  },
  {
   "cell_type": "code",
   "execution_count": 4,
   "metadata": {},
   "outputs": [
    {
     "data": {
      "text/plain": [
       "(40, 8)"
      ]
     },
     "execution_count": 4,
     "metadata": {},
     "output_type": "execute_result"
    }
   ],
   "source": [
    "# training_set_indices, validation_set_indices = std.simple_split(data_entities)\n",
    "training_set_indices, validation_set_indices = std.better_split(data_entities)\n",
    "\n",
    "len(training_set_indices), len(validation_set_indices)"
   ]
  },
  {
   "cell_type": "markdown",
   "metadata": {},
   "source": [
    "#### Set parameters"
   ]
  },
  {
   "cell_type": "code",
   "execution_count": 92,
   "metadata": {},
   "outputs": [
    {
     "data": {
      "text/plain": [
       "{'messages': [{'role': 'system',\n",
       "   'content': 'You are an annotation expert. You will be given a segment of a privacy policy of a web or mobile application, and will be asked to annotate entities in it.\\nPlease annotate the given sentence of privacy policy for data entities, and adhere to the following guidelines:\\n\\nIMPORTANT: Filtering Out General Phrases\\nBefore annotating, carefully check each potential data entity. DO NOT annotate general phrases that do not provide specific data types.\\nExamples of general phrases to omit include, but are not limited to:\\n\\n\"the information we collect about you\"\\n\"other data\"\\n\"any information\"\\n\\nIf a phrase does not clearly indicate a specific type of personal data, DO NOT include it in your annotations.\\n\\nData entities are refers to the phrases that mention PERSONAL DATA OF THE USER which is being mentioned in one of the following context types:\\n1. first-party-collection-use - the policy segment mentions collection, usage, or processing of this datum by the first party (the application).\\n2. third-party-collection-use - the policy segment mentions collection, usage, or processing of this datum by a third party.\\n3. third-party-sharing-disclosure - the policy segment mentions sharing, or disclosure of this datum to a third party.\\n4. data-storage-retention-deletion - the policy segment mentions storage, retention, or deletion of this datum.\\n5. data-security-protection - the policy segment mentions how this datum is being protected.\\n\\nNote the following!\\n1. Personal user data that is mentioned outside of one of these contexts does not classify as data entity and should NOT be annotated.\\n2. Multiple contexts may apply to the same data entity.\\n3. Tracking technologies such as cookies, web beacons, etc. are technologies, hence does not classify as data entity and should NOT be annotated.\\n4. The data segment that you receive might be empty or not contain any information on usage of concrete personal user data - that\\'s normal, and you should just return an empty list.\\n\\nIn the following prompt, you will receive a sentence, and your task is to find the data entities in the sentence.\\nProvide the output as a list of data entities. Output only the exact text of the data entity as it appears in the text segment.\\nDo not include any additional information or context in your annotations.\\nRepresent the data entities as a JSON array of entries, following the order of their appearance in the segment.\\n'},\n",
       "  {'role': 'user',\n",
       "   'content': 'Please annotate the following sentence:\\n\\n101 Great Goals Privacy Policy\\n'},\n",
       "  {'role': 'assistant', 'content': '[]'}]}"
      ]
     },
     "execution_count": 92,
     "metadata": {},
     "output_type": "execute_result"
    }
   ],
   "source": [
    "# all_data = m_utils.as_training_data_for_data_span_of_segment(data_entities)\n",
    "# all_data = m_utils.as_training_data_for_data_span_of_segment_1_1(data_entities)\n",
    "# all_data = m_utils.as_training_data_for_data_span_of_sentence(data_entities)\n",
    "# all_data = m_utils.as_training_data_for_data_span_of_sentence_1(data_entities)  # Haven't used here\n",
    "all_data = m_utils.as_training_data_for_data_span_of_sentence_only(data_entities)\n",
    "# all_data = m_utils.as_training_data_for_data_classification_of_segment(data_entities)\n",
    "# all_data = m_utils.as_training_data_for_data_classification_of_segment_gradual(data_entities)\n",
    "\n",
    "# base_model = 'gpt-4o-2024-08-06'\n",
    "base_model = 'gpt-4o-mini-2024-07-18'\n",
    "suffix = 'data_entity-sent_data-ver2'\n",
    "# suffix = 'sent-data-entities-30-train-5-val-with-empty'\n",
    "\n",
    "job_desc = suffix\n",
    "\n",
    "all_data[0]"
   ]
  },
  {
   "cell_type": "markdown",
   "metadata": {},
   "source": [
    "## Fine-tune model with specified training data"
   ]
  },
  {
   "cell_type": "code",
   "execution_count": 42,
   "metadata": {},
   "outputs": [
    {
     "name": "stdout",
     "output_type": "stream",
     "text": [
      "Constructing training and validation data files (locally)...\n",
      "Uploading training and validation data files...\n",
      "Data files uploading (API calls returned).\n",
      "Creating fine-tuning job...\n",
      "Created fine-tuning job.\n",
      "Job description saved.\n"
     ]
    },
    {
     "data": {
      "text/plain": [
       "(PosixPath('../out/fine_tune-2024-10-01-15-08-03-gpt-4o-2024-08-06'),\n",
       " FineTuningJob(id='ftjob-yyumApfpV4ITCmtd9fTc37Xl', created_at=1727791686, error=Error(code=None, message=None, param=None), fine_tuned_model=None, finished_at=None, hyperparameters=Hyperparameters(n_epochs='auto', batch_size='auto', learning_rate_multiplier='auto'), model='gpt-4o-2024-08-06', object='fine_tuning.job', organization_id='org-B2C2pNzAq4paAOvhIYdFJlSv', result_files=[], seed=1649472628, status='validating_files', trained_tokens=None, training_file='file-uepY3AjPsSu01K8fSmlqvpwk', validation_file='file-Jxbkh69ufyTbSKsrsenaXiqw', estimated_finish=None, integrations=[FineTuningJobWandbIntegrationObject(type='wandb', wandb=FineTuningJobWandbIntegration(project='renyuneyun-university-of-oxford', entity=None, name=None, tags=None, run_id='ftjob-yyumApfpV4ITCmtd9fTc37Xl'))], user_provided_suffix='purpose_span-sent_entity-v2-d4'),\n",
       " 917,\n",
       " {'messages': [{'role': 'system',\n",
       "    'content': 'You are an annotation expert. You will be given a segment of a privacy policy of a web or mobile application, and will be asked to annotate purpose entities in it.\\n\\nIMPORTANT: Filtering Out General Phrase\\nBefore annotating, carefully check each potential purpose entity. DO NOT annotate general phrases that do not provide specific purpose types.\\nExamples of general phrases to omit include, but are not limited to:\\n\\n\"other purposes\"\\n\"purposes described in our policy\"\\n\\nPurpose entities are phrases in segment text that refer to the purposes for which USER\\'S PERSONAL DATA will be used, collected, processed, protected, shared with the third parties, etc. The purpose entity must be mentioned in one of the following context types:\\n1. first-party-collection-use - the policy segment mentions collection, usage, or processing of this datum by the first party (the application).\\n2. third-party-collection-use - the policy segment mentions collection, usage, or processing of this datum by a third party.\\n3. third-party-sharing-disclosure - the policy segment mentions sharing, or disclosure of this datum to a third party.\\n4. data-storage-retention-deletion - the policy segment mentions storage, retention, or deletion of this datum.\\n5. data-security-protection - the policy segment mentions how this datum is being protected.\\n\\nNote the following!\\n1. Purpose that is mentioned outside of one of these contexts does not classify as purpose entity and should NOT be annotated.\\n2. Purpose that does not have a clear and concrete personal user data that it applies to does not classify as purpose entity and should NOT be annotated.\\n3. Multiple contexts may apply to the same purpose entity.\\n\\nProvide the output as a list of purpose entities with the following details for each entity:\\n1. The exact text of the purpose entity as it appears in the text segment.\\n\\nPlease identify and annotate ALL purpose entities in the following privacy policy segment from user\\'s prompt. Remember to ignore purpose entities that do not constitute a concrete purpose.\\nProvide the output as a list of purposes. Output only the exact text of the purpose as it appears in the text segment.\\nDo not include any additional information or context in your annotations.\\nRepresent the purposes as a JSON array of entries, following the order of their appearance in the segment.\\n'},\n",
       "   {'role': 'user',\n",
       "    'content': 'Please annotate the following sentence:\\n\\n\\n'},\n",
       "   {'role': 'assistant', 'content': '[]'}]})"
      ]
     },
     "execution_count": 42,
     "metadata": {},
     "output_type": "execute_result"
    }
   ],
   "source": [
    "job_desc_dir, fine_tune_job, test_set = llm_utils.fine_tune_with_data(\n",
    "    all_data, training_set_indices, validation_set_indices,\n",
    "    basemodel=base_model,\n",
    "    fine_tune_args={'suffix':suffix},\n",
    "    desc=job_desc)\n",
    "\n",
    "job_desc_dir, fine_tune_job, len(test_set), test_set[0]"
   ]
  },
  {
   "cell_type": "code",
   "execution_count": 9,
   "metadata": {},
   "outputs": [
    {
     "name": "stdout",
     "output_type": "stream",
     "text": [
      "> \u001b[0;32m/home/ryey/workspaces/oxford/PP-DToU/fine-tune/src/llm_utils.py\u001b[0m(50)\u001b[0;36mfine_tune_with_data\u001b[0;34m()\u001b[0m\n",
      "\u001b[0;32m     48 \u001b[0;31m    \u001b[0mfl\u001b[0m\u001b[0;34m.\u001b[0m\u001b[0msymlink_to\u001b[0m\u001b[0;34m(\u001b[0m\u001b[0mjob_desc_dir\u001b[0m\u001b[0;34m)\u001b[0m\u001b[0;34m\u001b[0m\u001b[0;34m\u001b[0m\u001b[0m\n",
      "\u001b[0m\u001b[0;32m     49 \u001b[0;31m\u001b[0;34m\u001b[0m\u001b[0m\n",
      "\u001b[0m\u001b[0;32m---> 50 \u001b[0;31m    \u001b[0mtraining_set\u001b[0m \u001b[0;34m=\u001b[0m \u001b[0;34m[\u001b[0m\u001b[0mall_data\u001b[0m\u001b[0;34m[\u001b[0m\u001b[0mi\u001b[0m\u001b[0;34m]\u001b[0m \u001b[0;32mfor\u001b[0m \u001b[0mi\u001b[0m \u001b[0;32min\u001b[0m \u001b[0mtraining_set_indices\u001b[0m\u001b[0;34m]\u001b[0m\u001b[0;34m\u001b[0m\u001b[0;34m\u001b[0m\u001b[0m\n",
      "\u001b[0m\u001b[0;32m     51 \u001b[0;31m    \u001b[0mvalidation_set\u001b[0m \u001b[0;34m=\u001b[0m \u001b[0;34m[\u001b[0m\u001b[0mall_data\u001b[0m\u001b[0;34m[\u001b[0m\u001b[0mi\u001b[0m\u001b[0;34m]\u001b[0m \u001b[0;32mfor\u001b[0m \u001b[0mi\u001b[0m \u001b[0;32min\u001b[0m \u001b[0mvalidation_set_indices\u001b[0m\u001b[0;34m]\u001b[0m\u001b[0;34m\u001b[0m\u001b[0;34m\u001b[0m\u001b[0m\n",
      "\u001b[0m\u001b[0;32m     52 \u001b[0;31m    \u001b[0mtest_set\u001b[0m \u001b[0;34m=\u001b[0m \u001b[0;34m[\u001b[0m\u001b[0mall_data\u001b[0m\u001b[0;34m[\u001b[0m\u001b[0mi\u001b[0m\u001b[0;34m]\u001b[0m \u001b[0;32mfor\u001b[0m \u001b[0mi\u001b[0m \u001b[0;32min\u001b[0m \u001b[0mset\u001b[0m\u001b[0;34m(\u001b[0m\u001b[0mrange\u001b[0m\u001b[0;34m(\u001b[0m\u001b[0mlen\u001b[0m\u001b[0;34m(\u001b[0m\u001b[0mall_data\u001b[0m\u001b[0;34m)\u001b[0m\u001b[0;34m)\u001b[0m\u001b[0;34m)\u001b[0m \u001b[0;34m-\u001b[0m \u001b[0mset\u001b[0m\u001b[0;34m(\u001b[0m\u001b[0mtraining_set_indices\u001b[0m\u001b[0;34m)\u001b[0m \u001b[0;34m-\u001b[0m \u001b[0mset\u001b[0m\u001b[0;34m(\u001b[0m\u001b[0mvalidation_set_indices\u001b[0m\u001b[0;34m)\u001b[0m\u001b[0;34m]\u001b[0m\u001b[0;34m\u001b[0m\u001b[0;34m\u001b[0m\u001b[0m\n",
      "\u001b[0m\n",
      "237\n"
     ]
    }
   ],
   "source": [
    "%debug"
   ]
  },
  {
   "cell_type": "code",
   "execution_count": 41,
   "metadata": {},
   "outputs": [
    {
     "data": {
      "text/plain": [
       "FineTuningJob(id='ftjob-61c0FVgYkOfjZaMwRpOjNOzo', created_at=1726265855, error=Error(code=None, message=None, param=None), fine_tuned_model='ft:gpt-4o-2024-08-06:rui:30-train-5-val-with-empty-from-api:A790JXld', finished_at=1726266269, hyperparameters=Hyperparameters(n_epochs=3, batch_size=1, learning_rate_multiplier=2), model='gpt-4o-2024-08-06', object='fine_tuning.job', organization_id='org-B2C2pNzAq4paAOvhIYdFJlSv', result_files=['file-1TTTIJ6t7DVXg51yYafkwd4J'], seed=1504396448, status='succeeded', trained_tokens=68019, training_file='file-iYtsamFpHaR3FyqGhHWNeMVm', validation_file='file-C1S6NC5e9VWZrwgmuFzkDxVR', estimated_finish=None, integrations=[], user_provided_suffix='30_train-5_val-with_empty-from_api')"
      ]
     },
     "execution_count": 41,
     "metadata": {},
     "output_type": "execute_result"
    }
   ],
   "source": [
    "llm_utils.await_fine_tune_finish_and_clean_up(wait_for_job_completion=False)"
   ]
  },
  {
   "cell_type": "code",
   "execution_count": 31,
   "metadata": {},
   "outputs": [],
   "source": [
    "fine_tuned_model_id = 'ft:gpt-4o-mini-2024-07-18:rui:30_train-5_val-content_only-from_api:A6KhgqGM'\n",
    "fine_tuned_model_id = 'ft:gpt-4o-mini-2024-07-18:rui:30-train-5-val-content-only-from-api:A6cig7w6'"
   ]
  }
 ],
 "metadata": {
  "kernelspec": {
   "display_name": ".venv",
   "language": "python",
   "name": "python3"
  },
  "language_info": {
   "codemirror_mode": {
    "name": "ipython",
    "version": 3
   },
   "file_extension": ".py",
   "mimetype": "text/x-python",
   "name": "python",
   "nbconvert_exporter": "python",
   "pygments_lexer": "ipython3",
   "version": "3.12.6"
  }
 },
 "nbformat": 4,
 "nbformat_minor": 2
}
