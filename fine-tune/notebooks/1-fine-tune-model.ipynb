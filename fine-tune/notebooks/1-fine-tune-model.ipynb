{
 "cells": [
  {
   "cell_type": "code",
   "execution_count": 1,
   "metadata": {},
   "outputs": [
    {
     "data": {
      "text/plain": [
       "True"
      ]
     },
     "execution_count": 1,
     "metadata": {},
     "output_type": "execute_result"
    }
   ],
   "source": [
    "%reload_ext autoreload\n",
    "%autoreload 2\n",
    "\n",
    "from pprint import pprint\n",
    "import csv\n",
    "from copy import deepcopy\n",
    "import json\n",
    "import pathlib\n",
    "from pathlib import Path\n",
    "from openai import OpenAI\n",
    "from dotenv import load_dotenv\n",
    "import numpy as np\n",
    "import src.annotation_utils as a_utils\n",
    "import src.llm_utils as llm_utils\n",
    "import src.message_utils as m_utils\n",
    "from src.env import (\n",
    "    BRAT_DATA_PATH,\n",
    ")\n",
    "from src import utils\n",
    "import split_training_data as std\n",
    "from job_preset import JOB_PRESET\n",
    "import os\n",
    "\n",
    "load_dotenv()\n"
   ]
  },
  {
   "cell_type": "markdown",
   "metadata": {},
   "source": [
    "## Load training job"
   ]
  },
  {
   "cell_type": "markdown",
   "metadata": {},
   "source": [
    "### Load from preset"
   ]
  },
  {
   "cell_type": "code",
   "execution_count": 2,
   "metadata": {},
   "outputs": [
    {
     "data": {
      "text/plain": [
       "('data_class-seg_data_l0-v2',\n",
       " 181,\n",
       " 40,\n",
       " 8,\n",
       " 'gpt-4o-mini-2024-07-18',\n",
       " {'messages': [{'role': 'system',\n",
       "    'content': 'You are an annotation expert, and your task is to map phrases concerning user private data to one of the high-level categories below.\\nYou will be given a list of categories/terms, belong to the same level of a category hierarchy. You will also be given definitions of each of these categories. Please rely on these definitions.\\nThe category list is between `<category>...</category>`, and each row describes one category: the first element the first element is the category name, and the second element is the category description; they are separated using a comma (`,`); everything after the first comma is part of the description of the corresponding category.\\nYou always have to choose the category that matches the given phrase the closest and most precise.\\nHere is the categories:\\n\\n<category>\\nInternal, Information about internal characteristics that cannot be seen or observed\\nExternal, Information about external characteristics that can be observed\\nFinancial, Information about finance including monetary characteristics and transactions\\nHistorical, Information about historical data related to or relevant regarding history or past events\\nSocial, Information about social aspects such as family, public life, or professional networks.\\nTracking, Information used to track an individual or group e.g. location or email\\n</category>\\n\\nIn the following prompt, you will receive a segment (between `<segment>...</segment>`) and a list with phrases (between `<phrases>...</phrases>`), as a JSON array) within the segment. Your task is to map each one of the phrases to the category that matches each phrase the closest and most precise.\\nThe category must be STRICTLY of the categories in the \"category\" column of the attached csv file.\\nReturn the classifications as a JSON array of entries, matching the order of the given phrases.\\n'},\n",
       "   {'role': 'user',\n",
       "    'content': 'Please classify the phrases (given later) in the following segment:\\n\\n<segment>\\nPersonal Information\\n\\nThe first type of information is information that identifies or may reasonably identify an individual reasonable effort (\"Personal Information\"). Personal Information which is being gathered may consist of the following:\\nContact details: you may voluntarily provide us with certain contact details, such as your full name and email address.\\nVoluntary information: We also collect information which you provide us voluntarily. For example, when you respond to communications from us, communicate with us via email or share additional information about yourself through your use of the Services, such as on the chat feature and in games.\\nDevice information: we collect specific types of connection details and information with regard to your device, software or hardware that may identify you, such as: device\\'s unique identifiers (e.g. UDID, IMEI, MAC address), browser fingerprinting, IP address and geo-location data.\\nSocial networks: when you voluntarily decide to register through your social network account (such as your Facebook account), we will have access to basic information from your social network account, such as your name, birthdate, profile picture and friends\\' list, as well as information you made publicly available on such account.\\nIn addition, when using the Services, you may be able via your social network to \"Invite a Friend\" to use the Services. Should the person accept your invitation, we may obtain Personal Information from him/her such as: name, email address, phone number and date of birth. We will use the Personal Information for the purposes set out herein and disclose such information only to third parties as detailed in this Privacy Policy.\\nInformation we collect from third parties: We collect Personal Information from third party service providers, such as information about your credit history from credit agencies and other financial information which is relevant to the provision of the Services, as well as information which is gathered in order to verify your identity and prevent fraudulent or illegal activity.\\n\\n\\n</segment>\\n\\nThe phrases to classify are:\\n\\n<phrases>\\n[\"name\", \"profile picture\", \"friends\\' list\", \"name\", \"other financial information\", \"geo-location data\", \"contact details\", \"full name\", \"UDID\", \"Contact details:\"]\\n</phrases>\\n'},\n",
       "   {'role': 'assistant',\n",
       "    'content': '[\"Name\", \"Picture\", \"Friend\", \"Name\", \"Financial\", \"Location\", \"Contact\", \"Name\", \"UID\", \"Contact\"]'}]})"
      ]
     },
     "execution_count": 2,
     "metadata": {},
     "output_type": "execute_result"
    }
   ],
   "source": [
    "job_desc = 'data_class-seg_data_l0-v2'\n",
    "\n",
    "job_preset = JOB_PRESET[job_desc]\n",
    "\n",
    "data_entities = job_preset.load_data()\n",
    "all_data = job_preset.as_training_data(data_entities)\n",
    "training_set_indices, validation_set_indices = job_preset.training_data_splitter(data_entities)\n",
    "\n",
    "base_model = 'gpt-4o-mini-2024-07-18'\n",
    "# base_model = 'gpt-4o-2024-08-06'\n",
    "\n",
    "suffix = job_desc\n",
    "\n",
    "job_desc, len(data_entities), len(training_set_indices), len(validation_set_indices), base_model, all_data[10]"
   ]
  },
  {
   "cell_type": "markdown",
   "metadata": {},
   "source": [
    "### Or, custom load"
   ]
  },
  {
   "cell_type": "markdown",
   "metadata": {},
   "source": [
    "#### Load brat dataset"
   ]
  },
  {
   "cell_type": "code",
   "execution_count": 2,
   "metadata": {},
   "outputs": [],
   "source": [
    "\n",
    "import dataclasses\n",
    "\n",
    "from pybrat.parser import BratParser, Entity, Event, Example, Relation\n",
    "\n",
    "# Initialize a parser.\n",
    "brat = BratParser(error=\"ignore\")\n",
    "# brat = BratParser()\n",
    "annotations = brat.parse(BRAT_DATA_PATH)\n"
   ]
  },
  {
   "cell_type": "code",
   "execution_count": 3,
   "metadata": {},
   "outputs": [
    {
     "data": {
      "text/plain": [
       "(1067,\n",
       " {'segment': 'INTRODUCTION\\n\\nDomains Holdings Group Limited (the \"Company\"), offers a global network of content-rich web, mobile and social sites, including user acquisition and media buying (including paid search, display, mobile and social advertising), content optimization (including key word search, off-page and on-page optimization), and affiliate program, both in the web and mobile ecosystem (including through websites or mobile apps operated by Company; collectively, the \"Services\").\\nThe Company is deeply committed to safeguard the privacy expectations of its end users (\"User(s)\", \"you\" or \"your\"). Accordingly, we have put in place this Privacy Policy, which outlines our data protection practices, including how we collect, use, disclose and protect your Personal Information, as well as your rights with respect to your Personal Information.\\nIn this Privacy Policy, you can learn about:\\nWHAT INFORMATION WE COLLECT?\\nMINORS\\nHOW WE USE THE COLLECTED INFORMATION?\\nMARKETING\\nWITH WHOM WE SHARE INFORMATION?\\nINTERNATIONAL TRANSFER OF INFORMATION\\nTHIRD PARTY TRACKING TECHNOLOGIES\\nTHIRD PARTY SERVICES\\nRETENTION OF PERSONAL INFORMATION\\nYOUR RIGHTS\\nHOW WE KEEP YOUR INFORMATION SECURED\\nCHANGES TO THE PRIVACY POLICY\\nHOW TO CONTACT US\\nWe encourage you to read the Privacy Policy carefully and use it to make informed decisions. By visiting or interacting with the Company\\'s websites, mobile apps or other online properties, or by visiting or interacting with third party websites, mobile apps or other online properties that deploy our Service, you hereby agree to the Privacy Policy.\\nIf you have any questions (or comments) concerning this Privacy Policy, you are welcome to send our Data Protection Officer at dpo@domainsholdingsgroup.info.\\n\\n',\n",
       "  'sentence': 'HOW WE USE THE COLLECTED INFORMATION?',\n",
       "  'entities': []})"
      ]
     },
     "execution_count": 3,
     "metadata": {},
     "output_type": "execute_result"
    }
   ],
   "source": [
    "# data_entities = a_utils.get_data_entities_of_segments(annotations)\n",
    "data_entities = a_utils.get_data_entities_of_sentences(annotations)\n",
    "\n",
    "len(data_entities), data_entities[10]"
   ]
  },
  {
   "cell_type": "markdown",
   "metadata": {},
   "source": [
    "#### Select training data"
   ]
  },
  {
   "cell_type": "code",
   "execution_count": 4,
   "metadata": {},
   "outputs": [
    {
     "data": {
      "text/plain": [
       "(40, 8)"
      ]
     },
     "execution_count": 4,
     "metadata": {},
     "output_type": "execute_result"
    }
   ],
   "source": [
    "# training_set_indices, validation_set_indices = std.simple_split(data_entities)\n",
    "training_set_indices, validation_set_indices = std.better_split(data_entities)\n",
    "\n",
    "len(training_set_indices), len(validation_set_indices)"
   ]
  },
  {
   "cell_type": "markdown",
   "metadata": {},
   "source": [
    "#### Set parameters"
   ]
  },
  {
   "cell_type": "code",
   "execution_count": 92,
   "metadata": {},
   "outputs": [
    {
     "data": {
      "text/plain": [
       "{'messages': [{'role': 'system',\n",
       "   'content': 'You are an annotation expert. You will be given a segment of a privacy policy of a web or mobile application, and will be asked to annotate entities in it.\\nPlease annotate the given sentence of privacy policy for data entities, and adhere to the following guidelines:\\n\\nIMPORTANT: Filtering Out General Phrases\\nBefore annotating, carefully check each potential data entity. DO NOT annotate general phrases that do not provide specific data types.\\nExamples of general phrases to omit include, but are not limited to:\\n\\n\"the information we collect about you\"\\n\"other data\"\\n\"any information\"\\n\\nIf a phrase does not clearly indicate a specific type of personal data, DO NOT include it in your annotations.\\n\\nData entities are refers to the phrases that mention PERSONAL DATA OF THE USER which is being mentioned in one of the following context types:\\n1. first-party-collection-use - the policy segment mentions collection, usage, or processing of this datum by the first party (the application).\\n2. third-party-collection-use - the policy segment mentions collection, usage, or processing of this datum by a third party.\\n3. third-party-sharing-disclosure - the policy segment mentions sharing, or disclosure of this datum to a third party.\\n4. data-storage-retention-deletion - the policy segment mentions storage, retention, or deletion of this datum.\\n5. data-security-protection - the policy segment mentions how this datum is being protected.\\n\\nNote the following!\\n1. Personal user data that is mentioned outside of one of these contexts does not classify as data entity and should NOT be annotated.\\n2. Multiple contexts may apply to the same data entity.\\n3. Tracking technologies such as cookies, web beacons, etc. are technologies, hence does not classify as data entity and should NOT be annotated.\\n4. The data segment that you receive might be empty or not contain any information on usage of concrete personal user data - that\\'s normal, and you should just return an empty list.\\n\\nIn the following prompt, you will receive a sentence, and your task is to find the data entities in the sentence.\\nProvide the output as a list of data entities. Output only the exact text of the data entity as it appears in the text segment.\\nDo not include any additional information or context in your annotations.\\nRepresent the data entities as a JSON array of entries, following the order of their appearance in the segment.\\n'},\n",
       "  {'role': 'user',\n",
       "   'content': 'Please annotate the following sentence:\\n\\n101 Great Goals Privacy Policy\\n'},\n",
       "  {'role': 'assistant', 'content': '[]'}]}"
      ]
     },
     "execution_count": 92,
     "metadata": {},
     "output_type": "execute_result"
    }
   ],
   "source": [
    "# all_data = m_utils.as_training_data_for_data_span_of_segment(data_entities)\n",
    "# all_data = m_utils.as_training_data_for_data_span_of_segment_1_1(data_entities)\n",
    "# all_data = m_utils.as_training_data_for_data_span_of_sentence(data_entities)\n",
    "# all_data = m_utils.as_training_data_for_data_span_of_sentence_1(data_entities)  # Haven't used here\n",
    "all_data = m_utils.as_training_data_for_data_span_of_sentence_only(data_entities)\n",
    "# all_data = m_utils.as_training_data_for_data_classification_of_segment(data_entities)\n",
    "# all_data = m_utils.as_training_data_for_data_classification_of_segment_gradual(data_entities)\n",
    "\n",
    "# base_model = 'gpt-4o-2024-08-06'\n",
    "base_model = 'gpt-4o-mini-2024-07-18'\n",
    "suffix = 'data_entity-sent_data-ver2'\n",
    "# suffix = 'sent-data-entities-30-train-5-val-with-empty'\n",
    "\n",
    "job_desc = suffix\n",
    "\n",
    "all_data[0]"
   ]
  },
  {
   "cell_type": "markdown",
   "metadata": {},
   "source": [
    "## Fine-tune model with specified training data"
   ]
  },
  {
   "cell_type": "code",
   "execution_count": 3,
   "metadata": {},
   "outputs": [
    {
     "name": "stdout",
     "output_type": "stream",
     "text": [
      "Constructing training and validation data files (locally)...\n",
      "Uploading training and validation data files...\n",
      "Data files uploading (API calls returned).\n",
      "Creating fine-tuning job...\n",
      "Created fine-tuning job.\n",
      "Job description saved.\n"
     ]
    },
    {
     "data": {
      "text/plain": [
       "(PosixPath('../out/fine_tune-2024-09-18-22-31-32-gpt-4o-mini-2024-07-18'),\n",
       " FineTuningJob(id='ftjob-9OtfCr3gonA6Sdl9vnOlpy5P', created_at=1726695094, error=Error(code=None, message=None, param=None), fine_tuned_model=None, finished_at=None, hyperparameters=Hyperparameters(n_epochs='auto', batch_size='auto', learning_rate_multiplier='auto'), model='gpt-4o-mini-2024-07-18', object='fine_tuning.job', organization_id='org-B2C2pNzAq4paAOvhIYdFJlSv', result_files=[], seed=1116226090, status='validating_files', trained_tokens=None, training_file='file-eWuSJSFzzUQpOBLLusjTAOvY', validation_file='file-9P8wg5s2q5P6MZ1f8Kyv5vga', estimated_finish=None, integrations=[FineTuningJobWandbIntegrationObject(type='wandb', wandb=FineTuningJobWandbIntegration(project='renyuneyun-university-of-oxford', entity=None, name=None, tags=None, run_id='ftjob-9OtfCr3gonA6Sdl9vnOlpy5P'))], user_provided_suffix='data_class-seg_data_l0-v2'),\n",
       " 133,\n",
       " {'messages': [{'role': 'system',\n",
       "    'content': 'You are an annotation expert, and your task is to map phrases concerning user private data to one of the high-level categories below.\\nYou will be given a list of categories/terms, belong to the same level of a category hierarchy. You will also be given definitions of each of these categories. Please rely on these definitions.\\nThe category list is between `<category>...</category>`, and each row describes one category: the first element the first element is the category name, and the second element is the category description; they are separated using a comma (`,`); everything after the first comma is part of the description of the corresponding category.\\nYou always have to choose the category that matches the given phrase the closest and most precise.\\nHere is the categories:\\n\\n<category>\\nInternal, Information about internal characteristics that cannot be seen or observed\\nExternal, Information about external characteristics that can be observed\\nFinancial, Information about finance including monetary characteristics and transactions\\nHistorical, Information about historical data related to or relevant regarding history or past events\\nSocial, Information about social aspects such as family, public life, or professional networks.\\nTracking, Information used to track an individual or group e.g. location or email\\n</category>\\n\\nIn the following prompt, you will receive a segment (between `<segment>...</segment>`) and a list with phrases (between `<phrases>...</phrases>`), as a JSON array) within the segment. Your task is to map each one of the phrases to the category that matches each phrase the closest and most precise.\\nThe category must be STRICTLY of the categories in the \"category\" column of the attached csv file.\\nReturn the classifications as a JSON array of entries, matching the order of the given phrases.\\n'},\n",
       "   {'role': 'user',\n",
       "    'content': 'Please classify the phrases (given later) in the following segment:\\n\\n<segment>\\nTHIRD PARTY TRACKING TECHNOLOGIES\\n\\nWhen you visit or access our Services (for example when you visit our websites), we use (and authorize third parties to use) web beacons, cookies, pixels, scripts, tags and other technologies (\"Tracking Technologies\").\\nThe Tracking Technologies allow us to automatically collect information about you and your online behavior, as well as your device (for example your computer or mobile device), for different purposes, such as in order to enhance your navigation on our Services, improve our Services\\' performance and customize your experience on our Services. We also use this information to collect statistics about the usage of our Services, perform analytics, deliver content which is tailored to your interests and administer services to our Users, advertisers, publishers, customers and partners.\\nWe also allow third parties to collect information about you through Tracking Technologies. To learn more please visit our Cookie Policy.\\n\\n\\n</segment>\\n\\nThe phrases to classify are:\\n\\n<phrases>\\n[]\\n</phrases>\\n'},\n",
       "   {'role': 'assistant', 'content': '[]'}]})"
      ]
     },
     "execution_count": 3,
     "metadata": {},
     "output_type": "execute_result"
    }
   ],
   "source": [
    "job_desc_dir, fine_tune_job, test_set = llm_utils.fine_tune_with_data(\n",
    "    all_data, training_set_indices, validation_set_indices,\n",
    "    basemodel=base_model,\n",
    "    fine_tune_args={'suffix':suffix},\n",
    "    desc=job_desc)\n",
    "\n",
    "job_desc_dir, fine_tune_job, len(test_set), test_set[0]"
   ]
  },
  {
   "cell_type": "code",
   "execution_count": 41,
   "metadata": {},
   "outputs": [
    {
     "data": {
      "text/plain": [
       "FineTuningJob(id='ftjob-61c0FVgYkOfjZaMwRpOjNOzo', created_at=1726265855, error=Error(code=None, message=None, param=None), fine_tuned_model='ft:gpt-4o-2024-08-06:rui:30-train-5-val-with-empty-from-api:A790JXld', finished_at=1726266269, hyperparameters=Hyperparameters(n_epochs=3, batch_size=1, learning_rate_multiplier=2), model='gpt-4o-2024-08-06', object='fine_tuning.job', organization_id='org-B2C2pNzAq4paAOvhIYdFJlSv', result_files=['file-1TTTIJ6t7DVXg51yYafkwd4J'], seed=1504396448, status='succeeded', trained_tokens=68019, training_file='file-iYtsamFpHaR3FyqGhHWNeMVm', validation_file='file-C1S6NC5e9VWZrwgmuFzkDxVR', estimated_finish=None, integrations=[], user_provided_suffix='30_train-5_val-with_empty-from_api')"
      ]
     },
     "execution_count": 41,
     "metadata": {},
     "output_type": "execute_result"
    }
   ],
   "source": [
    "llm_utils.await_fine_tune_finish_and_clean_up(wait_for_job_completion=False)"
   ]
  },
  {
   "cell_type": "code",
   "execution_count": 31,
   "metadata": {},
   "outputs": [],
   "source": [
    "fine_tuned_model_id = 'ft:gpt-4o-mini-2024-07-18:rui:30_train-5_val-content_only-from_api:A6KhgqGM'\n",
    "fine_tuned_model_id = 'ft:gpt-4o-mini-2024-07-18:rui:30-train-5-val-content-only-from-api:A6cig7w6'"
   ]
  }
 ],
 "metadata": {
  "kernelspec": {
   "display_name": ".venv",
   "language": "python",
   "name": "python3"
  },
  "language_info": {
   "codemirror_mode": {
    "name": "ipython",
    "version": 3
   },
   "file_extension": ".py",
   "mimetype": "text/x-python",
   "name": "python",
   "nbconvert_exporter": "python",
   "pygments_lexer": "ipython3",
   "version": "3.12.5"
  }
 },
 "nbformat": 4,
 "nbformat_minor": 2
}
