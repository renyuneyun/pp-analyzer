{
 "cells": [
  {
   "cell_type": "code",
   "execution_count": 36,
   "metadata": {},
   "outputs": [
    {
     "data": {
      "text/plain": [
       "True"
      ]
     },
     "execution_count": 36,
     "metadata": {},
     "output_type": "execute_result"
    }
   ],
   "source": [
    "%reload_ext autoreload\n",
    "%autoreload 2\n",
    "\n",
    "from pprint import pprint\n",
    "import csv\n",
    "from copy import deepcopy\n",
    "import json\n",
    "import pathlib\n",
    "from pathlib import Path\n",
    "from openai import OpenAI\n",
    "from dotenv import load_dotenv\n",
    "import numpy as np\n",
    "import fine_tune.annotation_utils as a_utils\n",
    "import fine_tune.llm_utils as llm_utils\n",
    "import fine_tune.message_utils as m_utils\n",
    "from fine_tune.env import (\n",
    "    BRAT_DATA_PATH,\n",
    ")\n",
    "from fine_tune import utils\n",
    "import split_training_data as std\n",
    "from job_preset import JOB_PRESET\n",
    "import os\n",
    "\n",
    "load_dotenv()\n"
   ]
  },
  {
   "cell_type": "markdown",
   "metadata": {},
   "source": [
    "## Load training job"
   ]
  },
  {
   "cell_type": "markdown",
   "metadata": {},
   "source": [
    "### Load from preset"
   ]
  },
  {
   "cell_type": "code",
   "execution_count": 39,
   "metadata": {},
   "outputs": [
    {
     "data": {
      "text/plain": [
       "('data_class-sent_data-v2-d4',\n",
       " 1067,\n",
       " 120,\n",
       " 30,\n",
       " 'gpt-4o-2024-08-06',\n",
       " {'messages': [{'role': 'system',\n",
       "    'content': 'You are an annotation expert, and your task is to map phrases concerning user private data to one of the 211 categories below.\\nYou will be given a list of categories/terms as a hierarchy, meaning that some categories will have subcategories.\\nYou will also be given definitions of each of these categories. Please rely on these definitions.\\nYou always have to choose the category that matches the given phrase the closest and most precise.\\nThe categories that are \"deeper\" in the hierarchy are more precise, so you should use them whenever they apply, and only use the parent category, if none of the child category matches the phrase.\\nHere is the hierarchy of terms:\\n\\nInternal\\n\\tAuthenticating\\n\\t\\tPassword\\n\\t\\tPINCode\\n\\t\\tSecretText\\n\\tKnowledgeBelief\\n\\t\\tPhilosophicalBelief\\n\\t\\tReligiousBelief\\n\\t\\tThought\\n\\tPreference\\n\\t\\tFavorite\\n\\t\\t\\tFavoriteColor\\n\\t\\t\\tFavoriteFood\\n\\t\\t\\tFavoriteMusic\\n\\t\\tIntention\\n\\t\\tInterest\\n\\t\\t\\tDislike\\n\\t\\t\\tLike\\n\\t\\tOpinion\\n\\t\\tPrivacyPreference\\nExternal\\n\\tBehavioral\\n\\t\\tAttitude\\n\\t\\tAuthenticationHistory\\n\\t\\tBrowsingBehavior\\n\\t\\t\\tBrowserHistory\\n\\t\\t\\tBrowsingReferral\\n\\t\\tCallLog\\n\\t\\tDemeanor\\n\\t\\tLinkClicked\\n\\t\\tPersonality\\n\\t\\tReliability\\n\\t\\tServiceConsumptionBehavior\\n\\t\\t\\tTVViewingBehavior\\n\\t\\tAdInteractionBehavior\\n\\tCitizenship\\n\\tDemographic\\n\\t\\tGeographic\\n\\t\\tIncomeBracket\\n\\t\\tPhysicalTrait\\n\\tEthnicity\\n\\t\\tEthnicOrigin\\n\\t\\tRace\\n\\tIdentifying\\n\\t\\tBiometric\\n\\t\\t\\tFacialPrint\\n\\t\\t\\tFingerprint\\n\\t\\t\\tRetina\\n\\t\\tName\\n\\t\\tOfficialID\\n\\t\\t\\tPassport\\n\\t\\tPicture\\n\\t\\tUID\\n\\t\\tUsername\\n\\t\\tVehicleLicense\\n\\t\\t\\tVehicleLicenseNumber\\n\\t\\t\\tVehicleLicenseRegistration\\n\\tLanguage\\n\\t\\tAccent\\n\\t\\tDialect\\n\\tMedicalHealth\\n\\t\\tBloodType\\n\\t\\tDisability\\n\\t\\tDNACode\\n\\t\\tDrugTestResult\\n\\t\\tHealth\\n\\t\\t\\tGenetic\\n\\t\\t\\tMentalHealth\\n\\t\\t\\tPhysicalHealth\\n\\t\\tHealthHistory\\n\\t\\t\\tFamilyHealthHistory\\n\\t\\t\\tIndividualHealthHistory\\n\\t\\tHealthRecord\\n\\t\\tPrescription\\n\\tNationality\\n\\tPersonalDocuments\\n\\tPhysicalCharacteristic\\n\\t\\tAge\\n\\t\\t\\tAgeRange\\n\\t\\t\\t\\tAgeExact\\n\\t\\t\\tBirthDate\\n\\t\\tGender\\n\\t\\tHairColor\\n\\t\\tHeight\\n\\t\\tPiercing\\n\\t\\tSkinTone\\n\\t\\tTattoo\\n\\t\\tWeight\\n\\tSexual\\n\\t\\tFetish\\n\\t\\tProclivity\\n\\t\\tSexualHistory\\n\\t\\tSexualPreference\\n\\tVehicle\\n\\t\\tVehicleUsage\\nFinancial\\n\\tFinancialAccount\\n\\t\\tAccountIdentifier\\n\\t\\t\\tFinancialAccountNumber\\n\\t\\tBankAccount\\n\\t\\tPaymentCard\\n\\t\\t\\tPaymentCardExpiry\\n\\t\\t\\tPaymentCardNumber\\n\\t\\t\\t\\tCreditCardNumber\\n\\tFinancialStatus\\n\\tInsurance\\n\\tOwnership\\n\\t\\tCarOwned\\n\\t\\tHouseOwned\\n\\t\\t\\tApartmentOwned\\n\\t\\tPersonalPossession\\n\\tTransactional\\n\\t\\tCredit\\n\\t\\t\\tCreditCapacity\\n\\t\\t\\tCreditRecord\\n\\t\\t\\tCreditStanding\\n\\t\\t\\tCreditWorthiness\\n\\t\\t\\t\\tCreditScore\\n\\t\\tIncome\\n\\t\\tLoanRecord\\n\\t\\tPurchase\\n\\t\\tPurchasesAndSpendingHabit\\n\\t\\tSale\\n\\t\\tTax\\n\\t\\tTransaction\\nHistorical\\n\\tLifeHistory\\nSocial\\n\\tCommunication\\n\\t\\tEmailContent\\n\\t\\tSocialMedia\\n\\t\\t\\tPubliclyAvailableSocialMedia\\n\\t\\tSocialMediaCommunication\\n\\t\\tVoiceCommunicationRecording\\n\\t\\tVoiceMail\\n\\tCriminal\\n\\t\\tCriminalCharge\\n\\t\\tCriminalConviction\\n\\t\\tCriminalOffense\\n\\t\\tCriminalPardon\\n\\tFamily\\n\\t\\tFamilyStructure\\n\\t\\t\\tDivorce\\n\\t\\t\\tMarriage\\n\\t\\t\\tOffspring\\n\\t\\t\\tParent\\n\\t\\t\\tSibling\\n\\t\\tRelationship\\n\\tProfessional\\n\\t\\tDisciplinaryAction\\n\\t\\tEducation\\n\\t\\t\\tEducationExperience\\n\\t\\t\\tEducationQualification\\n\\t\\tEmploymentHistory\\n\\t\\t\\tCurrentEmployment\\n\\t\\t\\tPastEmployment\\n\\t\\tJob\\n\\t\\tPerformanceAtWork\\n\\t\\tProfessionalCertification\\n\\t\\tProfessionalEvaluation\\n\\t\\tProfessionalInterview\\n\\t\\tReference\\n\\t\\tSalary\\n\\t\\tSchool\\n\\t\\tWorkEnvironment\\n\\t\\tWorkHistory\\n\\tPublicLife\\n\\t\\tCharacter\\n\\t\\tCommunicationsMetadata\\n\\t\\tGeneralReputation\\n\\t\\tInteraction\\n\\t\\tMaritalStatus\\n\\t\\tPoliticalAffiliation\\n\\t\\tPoliticalOpinion\\n\\t\\tReligion\\n\\t\\tSocialStatus\\n\\tSocialNetwork\\n\\t\\tAcquantaince\\n\\t\\tAssociation\\n\\t\\tConnection\\n\\t\\tFriend\\n\\t\\tGroupMembership\\n\\t\\t\\tTradeUnionMembership\\nTracking\\n\\tContact\\n\\t\\tEmailAddress\\n\\t\\t\\tEmailAddressPersonal\\n\\t\\t\\tEmailAddressWork\\n\\t\\tTelephoneNumber\\n\\tDeviceBased\\n\\t\\tBrowserFingerprint\\n\\t\\tDeviceSoftware\\n\\t\\t\\tDeviceApplications\\n\\t\\t\\tDeviceOperatingSystem\\n\\t\\tIPAddress\\n\\t\\tMACAddress\\n\\t\\tDeviceIdentifier\\n\\tDigitalFingerprint\\n\\tIdentifier\\n\\tLocation\\n\\t\\tBirthPlace\\n\\t\\tCountry\\n\\t\\tGPSCoordinate\\n\\t\\tPhysicalAddress\\n\\t\\t\\tCity\\n\\t\\t\\tHouseNumber\\n\\t\\t\\tLocality\\n\\t\\t\\tPostalCode\\n\\t\\t\\tRegion\\n\\t\\t\\tRoomNumber\\n\\t\\t\\tStreet\\n\\t\\tTravelHistory\\n\\tUserAgent\\n\\nHere are definitions of these terms in form of a csv file:\\n\\nLabel,Definition\\nAccent,Information about linguistic and speech accents.\\nAccountIdentifier,Information about financial account identifier.\\nAcquaintance,Information about acquaintances in a social network\\nAdInteractionBehavior,Information about interactions with advertisements.\\nAge,Information about age\\nAgeExact,\"Information about the exact age (i.e. to some degree within a year, month, or day)\"\\nAgeRange,Information about age range i.e. inexact age to some degree (i.e. some years)\\nApartmentOwned,Information about apartment(s) owned and its history\\nAssociation,\"Information about associations in a social network with other individuals, groups, or entities e.g. friend of a friend\"\\nAttitude,Information about attitude.\\nAuthenticating,Information about authentication and information used for authenticating\\nAuthenticationHistory,Information about prior authentication and its outcomes such as login attempts or location.\\nBankAccount,Information about bank accounts.\\nBehavioral,Information about Behavior or activity\\nBiometric,Information about biometrics and biometric characteristics.\\nBirthDate,Information about birth date\\nBirthPlace,Information about birth place\\nBloodType,Information about blood type.\\nBrowserFingerprint,Information about the web browser which is used as a \\'fingerprint\\'\\nBrowserHistory,Information about and including web browsing history\\nBrowsingBehavior,Information about browsing Behavior.\\nBrowsingReferral,\"Information about web browsing referrer or referral, which can be based on location, targeted referrals, direct, organic search, social media or actions, campaigns.\"\\nCallLog,Information about the calls that an individual has made.\\nCarOwned,Information about cars ownership and ownership history.\\nCharacter,Information about character in the public sphere\\nCitizenship,Information about citizenship\\nCity,Information about city as a location\\nCommunication,Information communicated from or to an individual\\nCommunicationsMetadata,Information about communication metadata in the public sphere\\nConnection,Information about and including connections in a social network\\nContact,Information about contacts or used for contacting e.g. email address or phone number\\nCountry,\"Information about country e.g. residence, travel.\"\\nCredit,Information about reputation with regards to money\\nCreditCapacity,Information about credit capacity.\\nCreditCardNumber,Information about credit card number\\nCreditRecord,Information about credit record.\\nCreditScore,Information about credit score.\\nCreditStanding,Information about credit standing.\\nCreditWorthiness,Information about credit worthiness.\\nCriminal,Information about criminal activity e.g. criminal convictions or jail time\\nCriminalCharge,Information about criminal charges.\\nCriminalConviction,Information about criminal convictions.\\nCriminalOffense,Information about criminal offenses\\nCriminalPardon,Information about criminal pardons.\\nCurrentEmployment,Information about current employment\\nDemeanor,Information about demeanor.\\nDemographic,Information about demography and demographic characteristics\\nDeviceApplications,Information about applications or application-like software on a device.\\nDeviceBased,Information about devices\\nDeviceIdentifier,Information about device identifier\\nDeviceOperatingSystem,Information about the operating system (OS) or system software that manages hardware or software resources.\\nDeviceSoftware,Information about software on or related to a device.\\nDialect,Information about linguistic dialects.\\nDigitalFingerprint,Information about a \\'digital fingerprint\\' created for identification\\nDisability,Information about disabilities.\\nDisciplinaryAction,Information about disciplinary actions and its history\\nDislike,Information about dislikes or preferences regarding repulsions.\\nDivorce,Information about divorce(s).\\nDNACode,Information about DNA.\\nDrugTestResult,Information about drug test results.\\nEducation,Information about education\\nEducationExperience,Information about education experience e.g. attending a university\\nEducationQualification,Information about educational qualifications\\nEmailAddress,Information about Email address.\\nEmailAddressPersonal,Information about Email address used in Personal capacity\\nEmailAddressWork,Information about Email address used for Work or in Professional capacity\\nEmailContent,Information about the contents of Emails sent or received\\nEmploymentHistory,Information about employment history\\nEthnicity,Information about ethnic origins and lineage\\nEthnicOrigin,Information about ethnic origin\\nExternal,Information about external characteristics that can be observed\\nFacialPrint,Information about facial print or pattern\\nFamily,Information about family and relationships\\nFamilyHealthHistory,Information about family health history.\\nFamilyStructure,Information about family and familial structure.\\nFavorite,Information about favorites\\nFavoriteColor,Information about favorite color.\\nFavoriteFood,Information about favorite food.\\nFavoriteMusic,Information about favorite music.\\nFetish,Information about an individual\\'s sexual fetishes\\nFinancial,Information about finance including monetary characteristics and transactions\\nFinancialAccount,Information about financial accounts.\\nFinancialAccountNumber,Information about financial account number\\nFinancialStatus,Information about financial status or standing\\nFingerprint,Information about fingerprint used for biometric purposes.\\nFriend,\"Information about friends in a social network, including aspects of friendships such as years together or nature of friendship.\"\\nGender,Information about gender\\nGeneralReputation,Information about reputation in the public sphere\\nGenetic,Information about inherited or acquired genetic characteristics\\nGeographic,Information about location or based on geography (e.g. home address)\\nGPSCoordinate,Information about location expressed using Global Position System coordinates (GPS)\\nGroupMembership,Information about groups and memberships included or associated with a social network\\nHairColor,Information about hair color\\nHealth,Information about health.\\nHealthHistory,Information about health history.\\nHealthRecord,Information about health record.\\nHeight,Information about physical height\\nHistorical,Information about historical data related to or relevant regarding history or past events\\nHouseNumber,Information about house or apartment number as a location\\nHouseOwned,Information about house(s) owned and ownership history.\\nIdentifier,Information about an identifier or name used for identification\\nIdentifying,Information that uniquely or semi-uniquely identifies an individual or a group\\nIncome,Information about financial income e.g. for individual or household or family\\nIncomeBracket,Information about income bracket.\\nIndividualHealthHistory,Information about information health history.\\nInsurance,Information about Insurance\\nIntention,Information about intentions\\nInteraction,Information about interactions in the public sphere\\nInterest,Information about interests\\nInternal,Information about internal characteristics that cannot be seen or observed\\nIPAddress,Information about the Internet Protocol (IP) address of a device\\nJob,Information about professional jobs\\nKnowledgeAndBeliefs,Information about knowledge and beliefs\\nLanguage,Information about language and lingual history.\\nLifeHistory,\"Information about personal history regarding events or activities - including  their occurrences that might be directly related or have had an influence (e.g. World War, 9/11)\"\\nLike,Information about likes or preferences regarding attractions.\\nLinkClicked,Information about the links that an individual has clicked.\\nLoanRecord,\"Information about loans, whether applied, provided or rejected, and its history\"\\nLocality,\"Information about locality e.g. city, village, town, portion of a city as a location\"\\nLocation,Information about location\\nMACAddress,Information about the Media Access Control (MAC) address of a device\\nMaritalStatus,Information about marital status and history\\nMarriage,Information about marriage(s).\\nMedicalHealth,\"Information about health, medical conditions or health care\"\\nMentalHealth,Information about mental health.\\nName,Information about names associated or used as given name or nickname.\\nNationality,Information about nationality\\nOfficialID,Information about an official identifier or identification document\\nOffspring,Information about offspring(s).\\nOpinion,Information about opinions\\nOwnership,\"Information about ownership and history, including renting, borrowing, possessions.\"\\nParent,Information about parent(s).\\nPassport,Information about passport\\nPassword,Information about password used in the process of authenticating the individual as an user accessing a system.\\nPastEmployment,Information about past employment\\nPaymentCard,\"Information about payment card such as Credit Card, Debit Card.\"\\nPaymentCardExpiry,Information about payment card expiry such as a date.\\nPaymentCardNumber,Information about payment card number.\\nPerformanceAtWork,Information about performance at work or within work environments\\nPersonalDocuments,Information about and including personal documents e.g. diaries or journals\\nPersonality,\"Information about personality (e.g., categorization in terms of the Big Five personality traits)\"\\nPersonalPossession,Information about personal possessions.\\nPhilosophicalBelief,Information about philosophical beliefs.\\nPhysicalAddress,Information about physical address.\\nPhysicalCharacteristic,Information about physical characteristics\\nPhysicalHealth,Information about physical health.\\nPhysicalTrait,Information about defining traits or features regarding the body.\\nPicture,Information about visual representation or image e.g. profile photo.\\nPiercing,Information about piercings\\nPINCode,\"Information about Personal identification number (PIN), which is usually used in the process of authenticating the individual as an user accessing a system.\"\\nPoliticalAffiliation,Information about political affiliation and history\\nPoliticalOpinion,Information about opinions regarding politics and political topics\\nPostalCode,Information about postal code as a location\\nPreference,Information about preferences or interests\\nPrescription,Information about medical and pharmaceutical prescriptions\\nPrivacyPreference,Information about privacy preferences\\nProclivity,Information about proclivities in a sexual context\\nProfessional,Information about educational or professional career\\nProfessionalCertification,Information about professional certifications\\nProfessionalEvaluation,Information about professional evaluations\\nProfessionalInterview,Information about professional interviews\\nPublicLife,Information about public life\\nPubliclyAvailableSocialMedia,Information about social media that is publicly available\\nPurchase,Information about purchases such as items bought e.g. grocery or clothing\\nPurchasesAndSpendingHabit,Information about analysis of purchases made and money spent expressed as a habit e.g. monthly shopping trends\\nRace,Information about race or racial history.\\nReference,Information about references in the professional context\\nRegion,Information about region as a location\\nRelationship,Information about relationships and relationship history.\\nReliability,Information about reliability (e.g. of a person)\\nReligion,\"Information about religion, religious inclinations, and religious history.\"\\nReligiousBelief,Information about religion and religious beliefs.\\nRetina,Information about retina and the retinal patterns.\\nRoomNumber,Information about location expressed as Room number or similar numbering systems\\nSalary,Information about salary\\nSale,Information about sales e.g. selling of goods or services\\nSchool,\"Information about school such as name of school, conduct, or grades obtained.\"\\nSecretText,\"Information about secret text used in the process of authenticating the individual as an user accessing a system, e.g., when recovering a lost password.\"\\nServiceConsumptionBehavior,\"Information about the consumption of a service, e.g. time and duration of consumption.\"\\nSexual,Information about sexuality and sexual history\\nSexualHistory,Information about sexual history\\nSexualPreference,Information about sexual preferences\\nSibling,Information about sibling(s).\\nSkinTone,Information about skin tone\\nSocial,\"Information about social aspects such as family, public life, or professional networks.\"\\nSocialMedia,Information about social media\\nSocialMediaCommunication,\"Information about social media communication, including the communication itself and metadata.\"\\nSocialNetwork,Information about friends or connections expressed as a social network\\nSocialStatus,Information about social status\\nStreet,Information about street as a location\\nTattoo,Information about tattoos\\nTax,Information about financial tax e.g. tax records or tax due\\nTelephoneNumber,Information about telephone number.\\nThought,Information about thoughts\\nTracking,Information used to track an individual or group e.g. location or email\\nTradeUnionMembership,Information about trade union memberships and related topics\\nTransaction,Information about financial transactions e.g. bank transfers\\nTransactional,\"Information about a purchasing, spending or income\"\\nTravelHistory,Information about travel history\\nTVViewingBehavior,\"Information about TV viewing Behavior, such as timestamps of channel change, duration of viewership, content consumed\"\\nUID,Information about unique identifiers.\\nUserAgent,Information about software acting on behalf of users e.g. web browser\\nUsername,Information about usernames.\\nVehicleLicenseNumber,Information about vehicle license number\\nVehicleLicenseRegistration,Information about vehicle license registration\\nVehicle,Information about vehicles\\nVehicleLicense,Information about vehicle license\\nVehicleUsage,\"Information about usage of vehicles, e.g. driving statistics\"\\nVoiceCommunicationRecording,\"Information about vocal recorded communication (e.g. telephony, VoIP)\"\\nVoiceMail,Information about voice mail messages.\\nWeight,Information about physical weight\\nWorkEnvironment,Information about work environments\\nWorkHistory,Information about work history in a professional context\\n\\n\\nIn the following prompt, you will receive a segment (between `<segment>...</segment>`) and a list with phrases (between `<phrases>...</phrases>`, as a JSON array) within the segment, and your task is to map each one of them to the category that matches each phrase the closest and most precise.\\nThe category must be STRICTLY of the categories in the \"category\" column of the attached csv file.\\nReturn the classifications as a JSON array of entries, matching the order of the given phrases.\\n'},\n",
       "   {'role': 'user',\n",
       "    'content': 'Please classify the phrases (given later) in the following segment:\\n\\n<segment>\\nINTRODUCTION\\n\\nDomains Holdings Group Limited (the \"Company\"), offers a global network of content-rich web, mobile and social sites, including user acquisition and media buying (including paid search, display, mobile and social advertising), content optimization (including key word search, off-page and on-page optimization), and affiliate program, both in the web and mobile ecosystem (including through websites or mobile apps operated by Company; collectively, the \"Services\").\\nThe Company is deeply committed to safeguard the privacy expectations of its end users (\"User(s)\", \"you\" or \"your\"). Accordingly, we have put in place this Privacy Policy, which outlines our data protection practices, including how we collect, use, disclose and protect your Personal Information, as well as your rights with respect to your Personal Information.\\nIn this Privacy Policy, you can learn about:\\nWHAT INFORMATION WE COLLECT?\\nMINORS\\nHOW WE USE THE COLLECTED INFORMATION?\\nMARKETING\\nWITH WHOM WE SHARE INFORMATION?\\nINTERNATIONAL TRANSFER OF INFORMATION\\nTHIRD PARTY TRACKING TECHNOLOGIES\\nTHIRD PARTY SERVICES\\nRETENTION OF PERSONAL INFORMATION\\nYOUR RIGHTS\\nHOW WE KEEP YOUR INFORMATION SECURED\\nCHANGES TO THE PRIVACY POLICY\\nHOW TO CONTACT US\\nWe encourage you to read the Privacy Policy carefully and use it to make informed decisions. By visiting or interacting with the Company\\'s websites, mobile apps or other online properties, or by visiting or interacting with third party websites, mobile apps or other online properties that deploy our Service, you hereby agree to the Privacy Policy.\\nIf you have any questions (or comments) concerning this Privacy Policy, you are welcome to send our Data Protection Officer at dpo@domainsholdingsgroup.info.\\n\\n\\n</segment>\\n\\nThe phrases to classify are:\\n\\n<phrases>\\n[]\\n</phrases>\\n'},\n",
       "   {'role': 'assistant', 'content': '[]'}]})"
      ]
     },
     "execution_count": 39,
     "metadata": {},
     "output_type": "execute_result"
    }
   ],
   "source": [
    "job_desc = 'data_class-sent_data-v2-d4'\n",
    "\n",
    "job_preset = JOB_PRESET[job_desc]\n",
    "\n",
    "data_entities = job_preset.load_data()\n",
    "all_data = job_preset.as_training_data(data_entities)\n",
    "training_set_indices, validation_set_indices = job_preset.training_data_splitter(data_entities)\n",
    "\n",
    "# base_model = 'gpt-4o-mini-2024-07-18'\n",
    "base_model = 'gpt-4o-2024-08-06'\n",
    "\n",
    "suffix = job_desc\n",
    "\n",
    "job_desc, len(data_entities), len(training_set_indices), len(validation_set_indices), base_model, all_data[10]"
   ]
  },
  {
   "cell_type": "markdown",
   "metadata": {},
   "source": [
    "### Or, custom load"
   ]
  },
  {
   "cell_type": "markdown",
   "metadata": {},
   "source": [
    "#### Load brat dataset"
   ]
  },
  {
   "cell_type": "code",
   "execution_count": 2,
   "metadata": {},
   "outputs": [],
   "source": [
    "\n",
    "import dataclasses\n",
    "\n",
    "from pybrat.parser import BratParser, Entity, Event, Example, Relation\n",
    "\n",
    "# Initialize a parser.\n",
    "brat = BratParser(error=\"ignore\")\n",
    "# brat = BratParser()\n",
    "annotations = brat.parse(BRAT_DATA_PATH)\n"
   ]
  },
  {
   "cell_type": "code",
   "execution_count": 3,
   "metadata": {},
   "outputs": [
    {
     "data": {
      "text/plain": [
       "(1067,\n",
       " {'segment': 'INTRODUCTION\\n\\nDomains Holdings Group Limited (the \"Company\"), offers a global network of content-rich web, mobile and social sites, including user acquisition and media buying (including paid search, display, mobile and social advertising), content optimization (including key word search, off-page and on-page optimization), and affiliate program, both in the web and mobile ecosystem (including through websites or mobile apps operated by Company; collectively, the \"Services\").\\nThe Company is deeply committed to safeguard the privacy expectations of its end users (\"User(s)\", \"you\" or \"your\"). Accordingly, we have put in place this Privacy Policy, which outlines our data protection practices, including how we collect, use, disclose and protect your Personal Information, as well as your rights with respect to your Personal Information.\\nIn this Privacy Policy, you can learn about:\\nWHAT INFORMATION WE COLLECT?\\nMINORS\\nHOW WE USE THE COLLECTED INFORMATION?\\nMARKETING\\nWITH WHOM WE SHARE INFORMATION?\\nINTERNATIONAL TRANSFER OF INFORMATION\\nTHIRD PARTY TRACKING TECHNOLOGIES\\nTHIRD PARTY SERVICES\\nRETENTION OF PERSONAL INFORMATION\\nYOUR RIGHTS\\nHOW WE KEEP YOUR INFORMATION SECURED\\nCHANGES TO THE PRIVACY POLICY\\nHOW TO CONTACT US\\nWe encourage you to read the Privacy Policy carefully and use it to make informed decisions. By visiting or interacting with the Company\\'s websites, mobile apps or other online properties, or by visiting or interacting with third party websites, mobile apps or other online properties that deploy our Service, you hereby agree to the Privacy Policy.\\nIf you have any questions (or comments) concerning this Privacy Policy, you are welcome to send our Data Protection Officer at dpo@domainsholdingsgroup.info.\\n\\n',\n",
       "  'sentence': 'HOW WE USE THE COLLECTED INFORMATION?',\n",
       "  'entities': []})"
      ]
     },
     "execution_count": 3,
     "metadata": {},
     "output_type": "execute_result"
    }
   ],
   "source": [
    "# data_entities = a_utils.get_data_entities_of_segments(annotations)\n",
    "data_entities = a_utils.get_data_entities_of_sentences(annotations)\n",
    "\n",
    "len(data_entities), data_entities[10]"
   ]
  },
  {
   "cell_type": "markdown",
   "metadata": {},
   "source": [
    "#### Select training data"
   ]
  },
  {
   "cell_type": "code",
   "execution_count": 4,
   "metadata": {},
   "outputs": [
    {
     "data": {
      "text/plain": [
       "(40, 8)"
      ]
     },
     "execution_count": 4,
     "metadata": {},
     "output_type": "execute_result"
    }
   ],
   "source": [
    "# training_set_indices, validation_set_indices = std.simple_split(data_entities)\n",
    "training_set_indices, validation_set_indices = std.better_split(data_entities)\n",
    "\n",
    "len(training_set_indices), len(validation_set_indices)"
   ]
  },
  {
   "cell_type": "markdown",
   "metadata": {},
   "source": [
    "#### Set parameters"
   ]
  },
  {
   "cell_type": "code",
   "execution_count": 92,
   "metadata": {},
   "outputs": [
    {
     "data": {
      "text/plain": [
       "{'messages': [{'role': 'system',\n",
       "   'content': 'You are an annotation expert. You will be given a segment of a privacy policy of a web or mobile application, and will be asked to annotate entities in it.\\nPlease annotate the given sentence of privacy policy for data entities, and adhere to the following guidelines:\\n\\nIMPORTANT: Filtering Out General Phrases\\nBefore annotating, carefully check each potential data entity. DO NOT annotate general phrases that do not provide specific data types.\\nExamples of general phrases to omit include, but are not limited to:\\n\\n\"the information we collect about you\"\\n\"other data\"\\n\"any information\"\\n\\nIf a phrase does not clearly indicate a specific type of personal data, DO NOT include it in your annotations.\\n\\nData entities are refers to the phrases that mention PERSONAL DATA OF THE USER which is being mentioned in one of the following context types:\\n1. first-party-collection-use - the policy segment mentions collection, usage, or processing of this datum by the first party (the application).\\n2. third-party-collection-use - the policy segment mentions collection, usage, or processing of this datum by a third party.\\n3. third-party-sharing-disclosure - the policy segment mentions sharing, or disclosure of this datum to a third party.\\n4. data-storage-retention-deletion - the policy segment mentions storage, retention, or deletion of this datum.\\n5. data-security-protection - the policy segment mentions how this datum is being protected.\\n\\nNote the following!\\n1. Personal user data that is mentioned outside of one of these contexts does not classify as data entity and should NOT be annotated.\\n2. Multiple contexts may apply to the same data entity.\\n3. Tracking technologies such as cookies, web beacons, etc. are technologies, hence does not classify as data entity and should NOT be annotated.\\n4. The data segment that you receive might be empty or not contain any information on usage of concrete personal user data - that\\'s normal, and you should just return an empty list.\\n\\nIn the following prompt, you will receive a sentence, and your task is to find the data entities in the sentence.\\nProvide the output as a list of data entities. Output only the exact text of the data entity as it appears in the text segment.\\nDo not include any additional information or context in your annotations.\\nRepresent the data entities as a JSON array of entries, following the order of their appearance in the segment.\\n'},\n",
       "  {'role': 'user',\n",
       "   'content': 'Please annotate the following sentence:\\n\\n101 Great Goals Privacy Policy\\n'},\n",
       "  {'role': 'assistant', 'content': '[]'}]}"
      ]
     },
     "execution_count": 92,
     "metadata": {},
     "output_type": "execute_result"
    }
   ],
   "source": [
    "# all_data = m_utils.as_training_data_for_data_span_of_segment(data_entities)\n",
    "# all_data = m_utils.as_training_data_for_data_span_of_segment_1_1(data_entities)\n",
    "# all_data = m_utils.as_training_data_for_data_span_of_sentence(data_entities)\n",
    "# all_data = m_utils.as_training_data_for_data_span_of_sentence_1(data_entities)  # Haven't used here\n",
    "all_data = m_utils.as_training_data_for_data_span_of_sentence_only(data_entities)\n",
    "# all_data = m_utils.as_training_data_for_data_classification_of_segment(data_entities)\n",
    "# all_data = m_utils.as_training_data_for_data_classification_of_segment_gradual(data_entities)\n",
    "\n",
    "# base_model = 'gpt-4o-2024-08-06'\n",
    "base_model = 'gpt-4o-mini-2024-07-18'\n",
    "suffix = 'data_entity-sent_data-ver2'\n",
    "# suffix = 'sent-data-entities-30-train-5-val-with-empty'\n",
    "\n",
    "job_desc = suffix\n",
    "\n",
    "all_data[0]"
   ]
  },
  {
   "cell_type": "markdown",
   "metadata": {},
   "source": [
    "## Fine-tune model with specified training data"
   ]
  },
  {
   "cell_type": "code",
   "execution_count": 40,
   "metadata": {},
   "outputs": [
    {
     "name": "stdout",
     "output_type": "stream",
     "text": [
      "Constructing training and validation data files (locally)...\n",
      "Uploading training and validation data files...\n",
      "Data files uploading (API calls returned).\n",
      "Creating fine-tuning job...\n",
      "Created fine-tuning job.\n",
      "Job description saved.\n"
     ]
    },
    {
     "data": {
      "text/plain": [
       "(PosixPath('../out/fine_tune-2024-10-04-22-33-38-gpt-4o-2024-08-06'),\n",
       " FineTuningJob(id='ftjob-PZ6US9G9qq3uLazHkIJpnN6z', created_at=1728077622, error=Error(code=None, message=None, param=None), fine_tuned_model=None, finished_at=None, hyperparameters=Hyperparameters(n_epochs='auto', batch_size='auto', learning_rate_multiplier='auto'), model='gpt-4o-2024-08-06', object='fine_tuning.job', organization_id='org-B2C2pNzAq4paAOvhIYdFJlSv', result_files=[], seed=159295259, status='validating_files', trained_tokens=None, training_file='file-68M2b6S0rJ1egI0k5fUjZ9mF', validation_file='file-mf9Qu6qJejINq09SLhqLOSlW', estimated_finish=None, integrations=[FineTuningJobWandbIntegrationObject(type='wandb', wandb=FineTuningJobWandbIntegration(project='renyuneyun-university-of-oxford', entity=None, name=None, tags=None, run_id='ftjob-PZ6US9G9qq3uLazHkIJpnN6z'))], user_provided_suffix='data_class-sent_data-v2-d4'),\n",
       " 917,\n",
       " {'messages': [{'role': 'system',\n",
       "    'content': 'You are an annotation expert, and your task is to map phrases concerning user private data to one of the 211 categories below.\\nYou will be given a list of categories/terms as a hierarchy, meaning that some categories will have subcategories.\\nYou will also be given definitions of each of these categories. Please rely on these definitions.\\nYou always have to choose the category that matches the given phrase the closest and most precise.\\nThe categories that are \"deeper\" in the hierarchy are more precise, so you should use them whenever they apply, and only use the parent category, if none of the child category matches the phrase.\\nHere is the hierarchy of terms:\\n\\nInternal\\n\\tAuthenticating\\n\\t\\tPassword\\n\\t\\tPINCode\\n\\t\\tSecretText\\n\\tKnowledgeBelief\\n\\t\\tPhilosophicalBelief\\n\\t\\tReligiousBelief\\n\\t\\tThought\\n\\tPreference\\n\\t\\tFavorite\\n\\t\\t\\tFavoriteColor\\n\\t\\t\\tFavoriteFood\\n\\t\\t\\tFavoriteMusic\\n\\t\\tIntention\\n\\t\\tInterest\\n\\t\\t\\tDislike\\n\\t\\t\\tLike\\n\\t\\tOpinion\\n\\t\\tPrivacyPreference\\nExternal\\n\\tBehavioral\\n\\t\\tAttitude\\n\\t\\tAuthenticationHistory\\n\\t\\tBrowsingBehavior\\n\\t\\t\\tBrowserHistory\\n\\t\\t\\tBrowsingReferral\\n\\t\\tCallLog\\n\\t\\tDemeanor\\n\\t\\tLinkClicked\\n\\t\\tPersonality\\n\\t\\tReliability\\n\\t\\tServiceConsumptionBehavior\\n\\t\\t\\tTVViewingBehavior\\n\\t\\tAdInteractionBehavior\\n\\tCitizenship\\n\\tDemographic\\n\\t\\tGeographic\\n\\t\\tIncomeBracket\\n\\t\\tPhysicalTrait\\n\\tEthnicity\\n\\t\\tEthnicOrigin\\n\\t\\tRace\\n\\tIdentifying\\n\\t\\tBiometric\\n\\t\\t\\tFacialPrint\\n\\t\\t\\tFingerprint\\n\\t\\t\\tRetina\\n\\t\\tName\\n\\t\\tOfficialID\\n\\t\\t\\tPassport\\n\\t\\tPicture\\n\\t\\tUID\\n\\t\\tUsername\\n\\t\\tVehicleLicense\\n\\t\\t\\tVehicleLicenseNumber\\n\\t\\t\\tVehicleLicenseRegistration\\n\\tLanguage\\n\\t\\tAccent\\n\\t\\tDialect\\n\\tMedicalHealth\\n\\t\\tBloodType\\n\\t\\tDisability\\n\\t\\tDNACode\\n\\t\\tDrugTestResult\\n\\t\\tHealth\\n\\t\\t\\tGenetic\\n\\t\\t\\tMentalHealth\\n\\t\\t\\tPhysicalHealth\\n\\t\\tHealthHistory\\n\\t\\t\\tFamilyHealthHistory\\n\\t\\t\\tIndividualHealthHistory\\n\\t\\tHealthRecord\\n\\t\\tPrescription\\n\\tNationality\\n\\tPersonalDocuments\\n\\tPhysicalCharacteristic\\n\\t\\tAge\\n\\t\\t\\tAgeRange\\n\\t\\t\\t\\tAgeExact\\n\\t\\t\\tBirthDate\\n\\t\\tGender\\n\\t\\tHairColor\\n\\t\\tHeight\\n\\t\\tPiercing\\n\\t\\tSkinTone\\n\\t\\tTattoo\\n\\t\\tWeight\\n\\tSexual\\n\\t\\tFetish\\n\\t\\tProclivity\\n\\t\\tSexualHistory\\n\\t\\tSexualPreference\\n\\tVehicle\\n\\t\\tVehicleUsage\\nFinancial\\n\\tFinancialAccount\\n\\t\\tAccountIdentifier\\n\\t\\t\\tFinancialAccountNumber\\n\\t\\tBankAccount\\n\\t\\tPaymentCard\\n\\t\\t\\tPaymentCardExpiry\\n\\t\\t\\tPaymentCardNumber\\n\\t\\t\\t\\tCreditCardNumber\\n\\tFinancialStatus\\n\\tInsurance\\n\\tOwnership\\n\\t\\tCarOwned\\n\\t\\tHouseOwned\\n\\t\\t\\tApartmentOwned\\n\\t\\tPersonalPossession\\n\\tTransactional\\n\\t\\tCredit\\n\\t\\t\\tCreditCapacity\\n\\t\\t\\tCreditRecord\\n\\t\\t\\tCreditStanding\\n\\t\\t\\tCreditWorthiness\\n\\t\\t\\t\\tCreditScore\\n\\t\\tIncome\\n\\t\\tLoanRecord\\n\\t\\tPurchase\\n\\t\\tPurchasesAndSpendingHabit\\n\\t\\tSale\\n\\t\\tTax\\n\\t\\tTransaction\\nHistorical\\n\\tLifeHistory\\nSocial\\n\\tCommunication\\n\\t\\tEmailContent\\n\\t\\tSocialMedia\\n\\t\\t\\tPubliclyAvailableSocialMedia\\n\\t\\tSocialMediaCommunication\\n\\t\\tVoiceCommunicationRecording\\n\\t\\tVoiceMail\\n\\tCriminal\\n\\t\\tCriminalCharge\\n\\t\\tCriminalConviction\\n\\t\\tCriminalOffense\\n\\t\\tCriminalPardon\\n\\tFamily\\n\\t\\tFamilyStructure\\n\\t\\t\\tDivorce\\n\\t\\t\\tMarriage\\n\\t\\t\\tOffspring\\n\\t\\t\\tParent\\n\\t\\t\\tSibling\\n\\t\\tRelationship\\n\\tProfessional\\n\\t\\tDisciplinaryAction\\n\\t\\tEducation\\n\\t\\t\\tEducationExperience\\n\\t\\t\\tEducationQualification\\n\\t\\tEmploymentHistory\\n\\t\\t\\tCurrentEmployment\\n\\t\\t\\tPastEmployment\\n\\t\\tJob\\n\\t\\tPerformanceAtWork\\n\\t\\tProfessionalCertification\\n\\t\\tProfessionalEvaluation\\n\\t\\tProfessionalInterview\\n\\t\\tReference\\n\\t\\tSalary\\n\\t\\tSchool\\n\\t\\tWorkEnvironment\\n\\t\\tWorkHistory\\n\\tPublicLife\\n\\t\\tCharacter\\n\\t\\tCommunicationsMetadata\\n\\t\\tGeneralReputation\\n\\t\\tInteraction\\n\\t\\tMaritalStatus\\n\\t\\tPoliticalAffiliation\\n\\t\\tPoliticalOpinion\\n\\t\\tReligion\\n\\t\\tSocialStatus\\n\\tSocialNetwork\\n\\t\\tAcquantaince\\n\\t\\tAssociation\\n\\t\\tConnection\\n\\t\\tFriend\\n\\t\\tGroupMembership\\n\\t\\t\\tTradeUnionMembership\\nTracking\\n\\tContact\\n\\t\\tEmailAddress\\n\\t\\t\\tEmailAddressPersonal\\n\\t\\t\\tEmailAddressWork\\n\\t\\tTelephoneNumber\\n\\tDeviceBased\\n\\t\\tBrowserFingerprint\\n\\t\\tDeviceSoftware\\n\\t\\t\\tDeviceApplications\\n\\t\\t\\tDeviceOperatingSystem\\n\\t\\tIPAddress\\n\\t\\tMACAddress\\n\\t\\tDeviceIdentifier\\n\\tDigitalFingerprint\\n\\tIdentifier\\n\\tLocation\\n\\t\\tBirthPlace\\n\\t\\tCountry\\n\\t\\tGPSCoordinate\\n\\t\\tPhysicalAddress\\n\\t\\t\\tCity\\n\\t\\t\\tHouseNumber\\n\\t\\t\\tLocality\\n\\t\\t\\tPostalCode\\n\\t\\t\\tRegion\\n\\t\\t\\tRoomNumber\\n\\t\\t\\tStreet\\n\\t\\tTravelHistory\\n\\tUserAgent\\n\\nHere are definitions of these terms in form of a csv file:\\n\\nLabel,Definition\\nAccent,Information about linguistic and speech accents.\\nAccountIdentifier,Information about financial account identifier.\\nAcquaintance,Information about acquaintances in a social network\\nAdInteractionBehavior,Information about interactions with advertisements.\\nAge,Information about age\\nAgeExact,\"Information about the exact age (i.e. to some degree within a year, month, or day)\"\\nAgeRange,Information about age range i.e. inexact age to some degree (i.e. some years)\\nApartmentOwned,Information about apartment(s) owned and its history\\nAssociation,\"Information about associations in a social network with other individuals, groups, or entities e.g. friend of a friend\"\\nAttitude,Information about attitude.\\nAuthenticating,Information about authentication and information used for authenticating\\nAuthenticationHistory,Information about prior authentication and its outcomes such as login attempts or location.\\nBankAccount,Information about bank accounts.\\nBehavioral,Information about Behavior or activity\\nBiometric,Information about biometrics and biometric characteristics.\\nBirthDate,Information about birth date\\nBirthPlace,Information about birth place\\nBloodType,Information about blood type.\\nBrowserFingerprint,Information about the web browser which is used as a \\'fingerprint\\'\\nBrowserHistory,Information about and including web browsing history\\nBrowsingBehavior,Information about browsing Behavior.\\nBrowsingReferral,\"Information about web browsing referrer or referral, which can be based on location, targeted referrals, direct, organic search, social media or actions, campaigns.\"\\nCallLog,Information about the calls that an individual has made.\\nCarOwned,Information about cars ownership and ownership history.\\nCharacter,Information about character in the public sphere\\nCitizenship,Information about citizenship\\nCity,Information about city as a location\\nCommunication,Information communicated from or to an individual\\nCommunicationsMetadata,Information about communication metadata in the public sphere\\nConnection,Information about and including connections in a social network\\nContact,Information about contacts or used for contacting e.g. email address or phone number\\nCountry,\"Information about country e.g. residence, travel.\"\\nCredit,Information about reputation with regards to money\\nCreditCapacity,Information about credit capacity.\\nCreditCardNumber,Information about credit card number\\nCreditRecord,Information about credit record.\\nCreditScore,Information about credit score.\\nCreditStanding,Information about credit standing.\\nCreditWorthiness,Information about credit worthiness.\\nCriminal,Information about criminal activity e.g. criminal convictions or jail time\\nCriminalCharge,Information about criminal charges.\\nCriminalConviction,Information about criminal convictions.\\nCriminalOffense,Information about criminal offenses\\nCriminalPardon,Information about criminal pardons.\\nCurrentEmployment,Information about current employment\\nDemeanor,Information about demeanor.\\nDemographic,Information about demography and demographic characteristics\\nDeviceApplications,Information about applications or application-like software on a device.\\nDeviceBased,Information about devices\\nDeviceIdentifier,Information about device identifier\\nDeviceOperatingSystem,Information about the operating system (OS) or system software that manages hardware or software resources.\\nDeviceSoftware,Information about software on or related to a device.\\nDialect,Information about linguistic dialects.\\nDigitalFingerprint,Information about a \\'digital fingerprint\\' created for identification\\nDisability,Information about disabilities.\\nDisciplinaryAction,Information about disciplinary actions and its history\\nDislike,Information about dislikes or preferences regarding repulsions.\\nDivorce,Information about divorce(s).\\nDNACode,Information about DNA.\\nDrugTestResult,Information about drug test results.\\nEducation,Information about education\\nEducationExperience,Information about education experience e.g. attending a university\\nEducationQualification,Information about educational qualifications\\nEmailAddress,Information about Email address.\\nEmailAddressPersonal,Information about Email address used in Personal capacity\\nEmailAddressWork,Information about Email address used for Work or in Professional capacity\\nEmailContent,Information about the contents of Emails sent or received\\nEmploymentHistory,Information about employment history\\nEthnicity,Information about ethnic origins and lineage\\nEthnicOrigin,Information about ethnic origin\\nExternal,Information about external characteristics that can be observed\\nFacialPrint,Information about facial print or pattern\\nFamily,Information about family and relationships\\nFamilyHealthHistory,Information about family health history.\\nFamilyStructure,Information about family and familial structure.\\nFavorite,Information about favorites\\nFavoriteColor,Information about favorite color.\\nFavoriteFood,Information about favorite food.\\nFavoriteMusic,Information about favorite music.\\nFetish,Information about an individual\\'s sexual fetishes\\nFinancial,Information about finance including monetary characteristics and transactions\\nFinancialAccount,Information about financial accounts.\\nFinancialAccountNumber,Information about financial account number\\nFinancialStatus,Information about financial status or standing\\nFingerprint,Information about fingerprint used for biometric purposes.\\nFriend,\"Information about friends in a social network, including aspects of friendships such as years together or nature of friendship.\"\\nGender,Information about gender\\nGeneralReputation,Information about reputation in the public sphere\\nGenetic,Information about inherited or acquired genetic characteristics\\nGeographic,Information about location or based on geography (e.g. home address)\\nGPSCoordinate,Information about location expressed using Global Position System coordinates (GPS)\\nGroupMembership,Information about groups and memberships included or associated with a social network\\nHairColor,Information about hair color\\nHealth,Information about health.\\nHealthHistory,Information about health history.\\nHealthRecord,Information about health record.\\nHeight,Information about physical height\\nHistorical,Information about historical data related to or relevant regarding history or past events\\nHouseNumber,Information about house or apartment number as a location\\nHouseOwned,Information about house(s) owned and ownership history.\\nIdentifier,Information about an identifier or name used for identification\\nIdentifying,Information that uniquely or semi-uniquely identifies an individual or a group\\nIncome,Information about financial income e.g. for individual or household or family\\nIncomeBracket,Information about income bracket.\\nIndividualHealthHistory,Information about information health history.\\nInsurance,Information about Insurance\\nIntention,Information about intentions\\nInteraction,Information about interactions in the public sphere\\nInterest,Information about interests\\nInternal,Information about internal characteristics that cannot be seen or observed\\nIPAddress,Information about the Internet Protocol (IP) address of a device\\nJob,Information about professional jobs\\nKnowledgeAndBeliefs,Information about knowledge and beliefs\\nLanguage,Information about language and lingual history.\\nLifeHistory,\"Information about personal history regarding events or activities - including  their occurrences that might be directly related or have had an influence (e.g. World War, 9/11)\"\\nLike,Information about likes or preferences regarding attractions.\\nLinkClicked,Information about the links that an individual has clicked.\\nLoanRecord,\"Information about loans, whether applied, provided or rejected, and its history\"\\nLocality,\"Information about locality e.g. city, village, town, portion of a city as a location\"\\nLocation,Information about location\\nMACAddress,Information about the Media Access Control (MAC) address of a device\\nMaritalStatus,Information about marital status and history\\nMarriage,Information about marriage(s).\\nMedicalHealth,\"Information about health, medical conditions or health care\"\\nMentalHealth,Information about mental health.\\nName,Information about names associated or used as given name or nickname.\\nNationality,Information about nationality\\nOfficialID,Information about an official identifier or identification document\\nOffspring,Information about offspring(s).\\nOpinion,Information about opinions\\nOwnership,\"Information about ownership and history, including renting, borrowing, possessions.\"\\nParent,Information about parent(s).\\nPassport,Information about passport\\nPassword,Information about password used in the process of authenticating the individual as an user accessing a system.\\nPastEmployment,Information about past employment\\nPaymentCard,\"Information about payment card such as Credit Card, Debit Card.\"\\nPaymentCardExpiry,Information about payment card expiry such as a date.\\nPaymentCardNumber,Information about payment card number.\\nPerformanceAtWork,Information about performance at work or within work environments\\nPersonalDocuments,Information about and including personal documents e.g. diaries or journals\\nPersonality,\"Information about personality (e.g., categorization in terms of the Big Five personality traits)\"\\nPersonalPossession,Information about personal possessions.\\nPhilosophicalBelief,Information about philosophical beliefs.\\nPhysicalAddress,Information about physical address.\\nPhysicalCharacteristic,Information about physical characteristics\\nPhysicalHealth,Information about physical health.\\nPhysicalTrait,Information about defining traits or features regarding the body.\\nPicture,Information about visual representation or image e.g. profile photo.\\nPiercing,Information about piercings\\nPINCode,\"Information about Personal identification number (PIN), which is usually used in the process of authenticating the individual as an user accessing a system.\"\\nPoliticalAffiliation,Information about political affiliation and history\\nPoliticalOpinion,Information about opinions regarding politics and political topics\\nPostalCode,Information about postal code as a location\\nPreference,Information about preferences or interests\\nPrescription,Information about medical and pharmaceutical prescriptions\\nPrivacyPreference,Information about privacy preferences\\nProclivity,Information about proclivities in a sexual context\\nProfessional,Information about educational or professional career\\nProfessionalCertification,Information about professional certifications\\nProfessionalEvaluation,Information about professional evaluations\\nProfessionalInterview,Information about professional interviews\\nPublicLife,Information about public life\\nPubliclyAvailableSocialMedia,Information about social media that is publicly available\\nPurchase,Information about purchases such as items bought e.g. grocery or clothing\\nPurchasesAndSpendingHabit,Information about analysis of purchases made and money spent expressed as a habit e.g. monthly shopping trends\\nRace,Information about race or racial history.\\nReference,Information about references in the professional context\\nRegion,Information about region as a location\\nRelationship,Information about relationships and relationship history.\\nReliability,Information about reliability (e.g. of a person)\\nReligion,\"Information about religion, religious inclinations, and religious history.\"\\nReligiousBelief,Information about religion and religious beliefs.\\nRetina,Information about retina and the retinal patterns.\\nRoomNumber,Information about location expressed as Room number or similar numbering systems\\nSalary,Information about salary\\nSale,Information about sales e.g. selling of goods or services\\nSchool,\"Information about school such as name of school, conduct, or grades obtained.\"\\nSecretText,\"Information about secret text used in the process of authenticating the individual as an user accessing a system, e.g., when recovering a lost password.\"\\nServiceConsumptionBehavior,\"Information about the consumption of a service, e.g. time and duration of consumption.\"\\nSexual,Information about sexuality and sexual history\\nSexualHistory,Information about sexual history\\nSexualPreference,Information about sexual preferences\\nSibling,Information about sibling(s).\\nSkinTone,Information about skin tone\\nSocial,\"Information about social aspects such as family, public life, or professional networks.\"\\nSocialMedia,Information about social media\\nSocialMediaCommunication,\"Information about social media communication, including the communication itself and metadata.\"\\nSocialNetwork,Information about friends or connections expressed as a social network\\nSocialStatus,Information about social status\\nStreet,Information about street as a location\\nTattoo,Information about tattoos\\nTax,Information about financial tax e.g. tax records or tax due\\nTelephoneNumber,Information about telephone number.\\nThought,Information about thoughts\\nTracking,Information used to track an individual or group e.g. location or email\\nTradeUnionMembership,Information about trade union memberships and related topics\\nTransaction,Information about financial transactions e.g. bank transfers\\nTransactional,\"Information about a purchasing, spending or income\"\\nTravelHistory,Information about travel history\\nTVViewingBehavior,\"Information about TV viewing Behavior, such as timestamps of channel change, duration of viewership, content consumed\"\\nUID,Information about unique identifiers.\\nUserAgent,Information about software acting on behalf of users e.g. web browser\\nUsername,Information about usernames.\\nVehicleLicenseNumber,Information about vehicle license number\\nVehicleLicenseRegistration,Information about vehicle license registration\\nVehicle,Information about vehicles\\nVehicleLicense,Information about vehicle license\\nVehicleUsage,\"Information about usage of vehicles, e.g. driving statistics\"\\nVoiceCommunicationRecording,\"Information about vocal recorded communication (e.g. telephony, VoIP)\"\\nVoiceMail,Information about voice mail messages.\\nWeight,Information about physical weight\\nWorkEnvironment,Information about work environments\\nWorkHistory,Information about work history in a professional context\\n\\n\\nIn the following prompt, you will receive a segment (between `<segment>...</segment>`) and a list with phrases (between `<phrases>...</phrases>`, as a JSON array) within the segment, and your task is to map each one of them to the category that matches each phrase the closest and most precise.\\nThe category must be STRICTLY of the categories in the \"category\" column of the attached csv file.\\nReturn the classifications as a JSON array of entries, matching the order of the given phrases.\\n'},\n",
       "   {'role': 'user',\n",
       "    'content': 'Please classify the phrases (given later) in the following segment:\\n\\n<segment>\\n101 Great Goals Privacy Policy\\nLast revised: May 25, 2018\\n\\n\\n</segment>\\n\\nThe phrases to classify are:\\n\\n<phrases>\\n[]\\n</phrases>\\n'},\n",
       "   {'role': 'assistant', 'content': '[]'}]})"
      ]
     },
     "execution_count": 40,
     "metadata": {},
     "output_type": "execute_result"
    }
   ],
   "source": [
    "job_desc_dir, fine_tune_job, test_set = llm_utils.fine_tune_with_data(\n",
    "    all_data, training_set_indices, validation_set_indices,\n",
    "    basemodel=base_model,\n",
    "    fine_tune_args={'suffix':suffix},\n",
    "    desc=job_desc)\n",
    "\n",
    "job_desc_dir, fine_tune_job, len(test_set), test_set[0]"
   ]
  },
  {
   "cell_type": "code",
   "execution_count": 9,
   "metadata": {},
   "outputs": [
    {
     "name": "stdout",
     "output_type": "stream",
     "text": [
      "> \u001b[0;32m/home/ryey/workspaces/oxford/PP-DToU/fine-tune/src/llm_utils.py\u001b[0m(50)\u001b[0;36mfine_tune_with_data\u001b[0;34m()\u001b[0m\n",
      "\u001b[0;32m     48 \u001b[0;31m    \u001b[0mfl\u001b[0m\u001b[0;34m.\u001b[0m\u001b[0msymlink_to\u001b[0m\u001b[0;34m(\u001b[0m\u001b[0mjob_desc_dir\u001b[0m\u001b[0;34m)\u001b[0m\u001b[0;34m\u001b[0m\u001b[0;34m\u001b[0m\u001b[0m\n",
      "\u001b[0m\u001b[0;32m     49 \u001b[0;31m\u001b[0;34m\u001b[0m\u001b[0m\n",
      "\u001b[0m\u001b[0;32m---> 50 \u001b[0;31m    \u001b[0mtraining_set\u001b[0m \u001b[0;34m=\u001b[0m \u001b[0;34m[\u001b[0m\u001b[0mall_data\u001b[0m\u001b[0;34m[\u001b[0m\u001b[0mi\u001b[0m\u001b[0;34m]\u001b[0m \u001b[0;32mfor\u001b[0m \u001b[0mi\u001b[0m \u001b[0;32min\u001b[0m \u001b[0mtraining_set_indices\u001b[0m\u001b[0;34m]\u001b[0m\u001b[0;34m\u001b[0m\u001b[0;34m\u001b[0m\u001b[0m\n",
      "\u001b[0m\u001b[0;32m     51 \u001b[0;31m    \u001b[0mvalidation_set\u001b[0m \u001b[0;34m=\u001b[0m \u001b[0;34m[\u001b[0m\u001b[0mall_data\u001b[0m\u001b[0;34m[\u001b[0m\u001b[0mi\u001b[0m\u001b[0;34m]\u001b[0m \u001b[0;32mfor\u001b[0m \u001b[0mi\u001b[0m \u001b[0;32min\u001b[0m \u001b[0mvalidation_set_indices\u001b[0m\u001b[0;34m]\u001b[0m\u001b[0;34m\u001b[0m\u001b[0;34m\u001b[0m\u001b[0m\n",
      "\u001b[0m\u001b[0;32m     52 \u001b[0;31m    \u001b[0mtest_set\u001b[0m \u001b[0;34m=\u001b[0m \u001b[0;34m[\u001b[0m\u001b[0mall_data\u001b[0m\u001b[0;34m[\u001b[0m\u001b[0mi\u001b[0m\u001b[0;34m]\u001b[0m \u001b[0;32mfor\u001b[0m \u001b[0mi\u001b[0m \u001b[0;32min\u001b[0m \u001b[0mset\u001b[0m\u001b[0;34m(\u001b[0m\u001b[0mrange\u001b[0m\u001b[0;34m(\u001b[0m\u001b[0mlen\u001b[0m\u001b[0;34m(\u001b[0m\u001b[0mall_data\u001b[0m\u001b[0;34m)\u001b[0m\u001b[0;34m)\u001b[0m\u001b[0;34m)\u001b[0m \u001b[0;34m-\u001b[0m \u001b[0mset\u001b[0m\u001b[0;34m(\u001b[0m\u001b[0mtraining_set_indices\u001b[0m\u001b[0;34m)\u001b[0m \u001b[0;34m-\u001b[0m \u001b[0mset\u001b[0m\u001b[0;34m(\u001b[0m\u001b[0mvalidation_set_indices\u001b[0m\u001b[0;34m)\u001b[0m\u001b[0;34m]\u001b[0m\u001b[0;34m\u001b[0m\u001b[0;34m\u001b[0m\u001b[0m\n",
      "\u001b[0m\n",
      "237\n"
     ]
    }
   ],
   "source": [
    "%debug"
   ]
  },
  {
   "cell_type": "code",
   "execution_count": 41,
   "metadata": {},
   "outputs": [
    {
     "data": {
      "text/plain": [
       "FineTuningJob(id='ftjob-61c0FVgYkOfjZaMwRpOjNOzo', created_at=1726265855, error=Error(code=None, message=None, param=None), fine_tuned_model='ft:gpt-4o-2024-08-06:rui:30-train-5-val-with-empty-from-api:A790JXld', finished_at=1726266269, hyperparameters=Hyperparameters(n_epochs=3, batch_size=1, learning_rate_multiplier=2), model='gpt-4o-2024-08-06', object='fine_tuning.job', organization_id='org-B2C2pNzAq4paAOvhIYdFJlSv', result_files=['file-1TTTIJ6t7DVXg51yYafkwd4J'], seed=1504396448, status='succeeded', trained_tokens=68019, training_file='file-iYtsamFpHaR3FyqGhHWNeMVm', validation_file='file-C1S6NC5e9VWZrwgmuFzkDxVR', estimated_finish=None, integrations=[], user_provided_suffix='30_train-5_val-with_empty-from_api')"
      ]
     },
     "execution_count": 41,
     "metadata": {},
     "output_type": "execute_result"
    }
   ],
   "source": [
    "llm_utils.await_fine_tune_finish_and_clean_up(wait_for_job_completion=False)"
   ]
  },
  {
   "cell_type": "code",
   "execution_count": 41,
   "metadata": {},
   "outputs": [],
   "source": [
    "llm_utils.clear_server_data()"
   ]
  }
 ],
 "metadata": {
  "kernelspec": {
   "display_name": ".venv",
   "language": "python",
   "name": "python3"
  },
  "language_info": {
   "codemirror_mode": {
    "name": "ipython",
    "version": 3
   },
   "file_extension": ".py",
   "mimetype": "text/x-python",
   "name": "python",
   "nbconvert_exporter": "python",
   "pygments_lexer": "ipython3",
   "version": "3.12.6"
  }
 },
 "nbformat": 4,
 "nbformat_minor": 2
}
